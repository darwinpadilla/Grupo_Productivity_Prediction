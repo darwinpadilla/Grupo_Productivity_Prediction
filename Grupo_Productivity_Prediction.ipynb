{
  "nbformat": 4,
  "nbformat_minor": 0,
  "metadata": {
    "colab": {
      "name": "Grupo_Productivity_Prediction.ipynb",
      "provenance": [],
      "collapsed_sections": [],
      "include_colab_link": true
    },
    "kernelspec": {
      "name": "python3",
      "display_name": "Python 3"
    },
    "language_info": {
      "name": "python"
    }
  },
  "cells": [
    {
      "cell_type": "markdown",
      "metadata": {
        "id": "view-in-github",
        "colab_type": "text"
      },
      "source": [
        "<a href=\"https://colab.research.google.com/github/darwinpadilla/Grupo_Productivity_Prediction/blob/main/Grupo_Productivity_Prediction.ipynb\" target=\"_parent\"><img src=\"https://colab.research.google.com/assets/colab-badge.svg\" alt=\"Open In Colab\"/></a>"
      ]
    },
    {
      "cell_type": "code",
      "metadata": {
        "colab": {
          "base_uri": "https://localhost:8080/"
        },
        "id": "72IBNC-IwaJg",
        "outputId": "00d804e2-d52e-423d-8cac-2ba5454da7f6"
      },
      "source": [
        "print('Hola mundo')"
      ],
      "execution_count": 50,
      "outputs": [
        {
          "output_type": "stream",
          "text": [
            "Hola mundo\n"
          ],
          "name": "stdout"
        }
      ]
    },
    {
      "cell_type": "markdown",
      "metadata": {
        "id": "5vFT2qcIwo8q"
      },
      "source": [
        "# Productivity Prediction of Garment Employees Data\n",
        "Integrantes:\n",
        "Rolando Diaz Gamboa \\ \n",
        "Guillermo Dante Matos Cuba \\ \n",
        "Darwin Padilla Gutierrez"
      ]
    },
    {
      "cell_type": "code",
      "metadata": {
        "id": "NADrd9uqjyTE"
      },
      "source": [
        "# GM GIT. 1.1.-Librerías\n",
        "import pickle\n",
        "import pandas as pd\n",
        "import numpy as np\n",
        "import seaborn as sns\n",
        "import matplotlib.pyplot as plt\n",
        "from sklearn.tree import DecisionTreeClassifier\n",
        "from sklearn.ensemble import RandomForestClassifier\n",
        "from sklearn.model_selection import train_test_split\n",
        "from sklearn.model_selection import validation_curve\n",
        "from matplotlib import pyplot as plt\n",
        "from sklearn.metrics import plot_confusion_matrix\n",
        "from sklearn.metrics import classification_report, confusion_matrix\n",
        "from sklearn.metrics import roc_auc_score\n",
        "from sklearn.model_selection import cross_val_predict\n",
        "from sklearn import metrics\n",
        "from sklearn.metrics import roc_curve\n",
        "from sklearn.metrics import auc\n",
        "from sklearn.metrics import plot_roc_curve\n",
        "from sklearn.model_selection import StratifiedKFold\n",
        "import xgboost as xgb\n",
        "from sklearn.preprocessing import MinMaxScaler\n",
        "from sklearn import preprocessing\n",
        "from sklearn.ensemble import AdaBoostClassifier\n",
        "from sklearn.svm import SVC\n",
        "from sklearn.preprocessing import LabelEncoder \n",
        "from sklearn.preprocessing import OneHotEncoder\n",
        "from sklearn.compose import ColumnTransformer\n",
        "from imblearn.over_sampling import SMOTE\n",
        "from imblearn.combine import SMOTETomek\n",
        "# 1.2.-Configuración general"
      ],
      "execution_count": 51,
      "outputs": []
    },
    {
      "cell_type": "markdown",
      "metadata": {
        "id": "u3YRP_Qqg8Or"
      },
      "source": [
        "# CONFIGURACIÓN Y SETEO DEL DATASET"
      ]
    },
    {
      "cell_type": "code",
      "metadata": {
        "id": "kwcO5mqFhFyj",
        "colab": {
          "base_uri": "https://localhost:8080/"
        },
        "outputId": "78bfb044-59b4-4f09-acb8-a74af58c94ba"
      },
      "source": [
        "#@title Informacion Dataset: garments_worker_productivity.csv\n",
        "!wget -O garments_worker_productivity.csv https://archive.ics.uci.edu/ml/machine-learning-databases/00597/garments_worker_productivity.csv"
      ],
      "execution_count": 52,
      "outputs": [
        {
          "output_type": "stream",
          "text": [
            "--2021-06-24 05:12:55--  https://archive.ics.uci.edu/ml/machine-learning-databases/00597/garments_worker_productivity.csv\n",
            "Resolving archive.ics.uci.edu (archive.ics.uci.edu)... 128.195.10.252\n",
            "Connecting to archive.ics.uci.edu (archive.ics.uci.edu)|128.195.10.252|:443... connected.\n",
            "HTTP request sent, awaiting response... 200 OK\n",
            "Length: 94933 (93K) [application/x-httpd-php]\n",
            "Saving to: ‘garments_worker_productivity.csv’\n",
            "\n",
            "garments_worker_pro 100%[===================>]  92.71K  --.-KB/s    in 0.1s    \n",
            "\n",
            "2021-06-24 05:12:55 (619 KB/s) - ‘garments_worker_productivity.csv’ saved [94933/94933]\n",
            "\n"
          ],
          "name": "stdout"
        }
      ]
    },
    {
      "cell_type": "code",
      "metadata": {
        "colab": {
          "base_uri": "https://localhost:8080/"
        },
        "id": "WzabsAFGhbd3",
        "outputId": "cc98444b-405f-4a55-d3d3-788f738c00af"
      },
      "source": [
        "# RD GIT. 1.2 Configuración del DATASET y lectura inicial\n",
        "# se lista contenido del directorio\n",
        "%ls"
      ],
      "execution_count": 53,
      "outputs": [
        {
          "output_type": "stream",
          "text": [
            "garments_worker_productivity.csv  \u001b[0m\u001b[01;34msample_data\u001b[0m/\n"
          ],
          "name": "stdout"
        }
      ]
    },
    {
      "cell_type": "code",
      "metadata": {
        "id": "hSJu15EEhiag"
      },
      "source": [
        "# RD GIT. 1.2 Configuración del DATASET y lectura inicial\n",
        "#Lectura del dataset\n",
        "file_name = \"garments_worker_productivity.csv\"\n",
        "\n",
        "#El método \"read_csv\" nos permite leer un excel\n",
        "dataset = pd.read_csv(file_name)"
      ],
      "execution_count": 54,
      "outputs": []
    },
    {
      "cell_type": "markdown",
      "metadata": {
        "id": "ZjRzWALC56d5"
      },
      "source": [
        "# PREPROCESAMIENTO"
      ]
    },
    {
      "cell_type": "code",
      "metadata": {
        "colab": {
          "base_uri": "https://localhost:8080/",
          "height": 454
        },
        "id": "XIQDwShWh6zC",
        "outputId": "78c686a9-3721-4880-f39b-8e001e5a577a"
      },
      "source": [
        "# RD GIT. 1.3 Análisis básico de datos\n",
        "#mostrar tamaño del dataset y ver informacion del dataset\n",
        "print(\"dimension del DATASET: \",dataset.shape)\n",
        "dataset"
      ],
      "execution_count": 55,
      "outputs": [
        {
          "output_type": "stream",
          "text": [
            "dimension del DATASET:  (1197, 15)\n"
          ],
          "name": "stdout"
        },
        {
          "output_type": "execute_result",
          "data": {
            "text/html": [
              "<div>\n",
              "<style scoped>\n",
              "    .dataframe tbody tr th:only-of-type {\n",
              "        vertical-align: middle;\n",
              "    }\n",
              "\n",
              "    .dataframe tbody tr th {\n",
              "        vertical-align: top;\n",
              "    }\n",
              "\n",
              "    .dataframe thead th {\n",
              "        text-align: right;\n",
              "    }\n",
              "</style>\n",
              "<table border=\"1\" class=\"dataframe\">\n",
              "  <thead>\n",
              "    <tr style=\"text-align: right;\">\n",
              "      <th></th>\n",
              "      <th>date</th>\n",
              "      <th>quarter</th>\n",
              "      <th>department</th>\n",
              "      <th>day</th>\n",
              "      <th>team</th>\n",
              "      <th>targeted_productivity</th>\n",
              "      <th>smv</th>\n",
              "      <th>wip</th>\n",
              "      <th>over_time</th>\n",
              "      <th>incentive</th>\n",
              "      <th>idle_time</th>\n",
              "      <th>idle_men</th>\n",
              "      <th>no_of_style_change</th>\n",
              "      <th>no_of_workers</th>\n",
              "      <th>actual_productivity</th>\n",
              "    </tr>\n",
              "  </thead>\n",
              "  <tbody>\n",
              "    <tr>\n",
              "      <th>0</th>\n",
              "      <td>1/1/2015</td>\n",
              "      <td>Quarter1</td>\n",
              "      <td>sweing</td>\n",
              "      <td>Thursday</td>\n",
              "      <td>8</td>\n",
              "      <td>0.80</td>\n",
              "      <td>26.16</td>\n",
              "      <td>1108.0</td>\n",
              "      <td>7080</td>\n",
              "      <td>98</td>\n",
              "      <td>0.0</td>\n",
              "      <td>0</td>\n",
              "      <td>0</td>\n",
              "      <td>59.0</td>\n",
              "      <td>0.940725</td>\n",
              "    </tr>\n",
              "    <tr>\n",
              "      <th>1</th>\n",
              "      <td>1/1/2015</td>\n",
              "      <td>Quarter1</td>\n",
              "      <td>finishing</td>\n",
              "      <td>Thursday</td>\n",
              "      <td>1</td>\n",
              "      <td>0.75</td>\n",
              "      <td>3.94</td>\n",
              "      <td>NaN</td>\n",
              "      <td>960</td>\n",
              "      <td>0</td>\n",
              "      <td>0.0</td>\n",
              "      <td>0</td>\n",
              "      <td>0</td>\n",
              "      <td>8.0</td>\n",
              "      <td>0.886500</td>\n",
              "    </tr>\n",
              "    <tr>\n",
              "      <th>2</th>\n",
              "      <td>1/1/2015</td>\n",
              "      <td>Quarter1</td>\n",
              "      <td>sweing</td>\n",
              "      <td>Thursday</td>\n",
              "      <td>11</td>\n",
              "      <td>0.80</td>\n",
              "      <td>11.41</td>\n",
              "      <td>968.0</td>\n",
              "      <td>3660</td>\n",
              "      <td>50</td>\n",
              "      <td>0.0</td>\n",
              "      <td>0</td>\n",
              "      <td>0</td>\n",
              "      <td>30.5</td>\n",
              "      <td>0.800570</td>\n",
              "    </tr>\n",
              "    <tr>\n",
              "      <th>3</th>\n",
              "      <td>1/1/2015</td>\n",
              "      <td>Quarter1</td>\n",
              "      <td>sweing</td>\n",
              "      <td>Thursday</td>\n",
              "      <td>12</td>\n",
              "      <td>0.80</td>\n",
              "      <td>11.41</td>\n",
              "      <td>968.0</td>\n",
              "      <td>3660</td>\n",
              "      <td>50</td>\n",
              "      <td>0.0</td>\n",
              "      <td>0</td>\n",
              "      <td>0</td>\n",
              "      <td>30.5</td>\n",
              "      <td>0.800570</td>\n",
              "    </tr>\n",
              "    <tr>\n",
              "      <th>4</th>\n",
              "      <td>1/1/2015</td>\n",
              "      <td>Quarter1</td>\n",
              "      <td>sweing</td>\n",
              "      <td>Thursday</td>\n",
              "      <td>6</td>\n",
              "      <td>0.80</td>\n",
              "      <td>25.90</td>\n",
              "      <td>1170.0</td>\n",
              "      <td>1920</td>\n",
              "      <td>50</td>\n",
              "      <td>0.0</td>\n",
              "      <td>0</td>\n",
              "      <td>0</td>\n",
              "      <td>56.0</td>\n",
              "      <td>0.800382</td>\n",
              "    </tr>\n",
              "    <tr>\n",
              "      <th>...</th>\n",
              "      <td>...</td>\n",
              "      <td>...</td>\n",
              "      <td>...</td>\n",
              "      <td>...</td>\n",
              "      <td>...</td>\n",
              "      <td>...</td>\n",
              "      <td>...</td>\n",
              "      <td>...</td>\n",
              "      <td>...</td>\n",
              "      <td>...</td>\n",
              "      <td>...</td>\n",
              "      <td>...</td>\n",
              "      <td>...</td>\n",
              "      <td>...</td>\n",
              "      <td>...</td>\n",
              "    </tr>\n",
              "    <tr>\n",
              "      <th>1192</th>\n",
              "      <td>3/11/2015</td>\n",
              "      <td>Quarter2</td>\n",
              "      <td>finishing</td>\n",
              "      <td>Wednesday</td>\n",
              "      <td>10</td>\n",
              "      <td>0.75</td>\n",
              "      <td>2.90</td>\n",
              "      <td>NaN</td>\n",
              "      <td>960</td>\n",
              "      <td>0</td>\n",
              "      <td>0.0</td>\n",
              "      <td>0</td>\n",
              "      <td>0</td>\n",
              "      <td>8.0</td>\n",
              "      <td>0.628333</td>\n",
              "    </tr>\n",
              "    <tr>\n",
              "      <th>1193</th>\n",
              "      <td>3/11/2015</td>\n",
              "      <td>Quarter2</td>\n",
              "      <td>finishing</td>\n",
              "      <td>Wednesday</td>\n",
              "      <td>8</td>\n",
              "      <td>0.70</td>\n",
              "      <td>3.90</td>\n",
              "      <td>NaN</td>\n",
              "      <td>960</td>\n",
              "      <td>0</td>\n",
              "      <td>0.0</td>\n",
              "      <td>0</td>\n",
              "      <td>0</td>\n",
              "      <td>8.0</td>\n",
              "      <td>0.625625</td>\n",
              "    </tr>\n",
              "    <tr>\n",
              "      <th>1194</th>\n",
              "      <td>3/11/2015</td>\n",
              "      <td>Quarter2</td>\n",
              "      <td>finishing</td>\n",
              "      <td>Wednesday</td>\n",
              "      <td>7</td>\n",
              "      <td>0.65</td>\n",
              "      <td>3.90</td>\n",
              "      <td>NaN</td>\n",
              "      <td>960</td>\n",
              "      <td>0</td>\n",
              "      <td>0.0</td>\n",
              "      <td>0</td>\n",
              "      <td>0</td>\n",
              "      <td>8.0</td>\n",
              "      <td>0.625625</td>\n",
              "    </tr>\n",
              "    <tr>\n",
              "      <th>1195</th>\n",
              "      <td>3/11/2015</td>\n",
              "      <td>Quarter2</td>\n",
              "      <td>finishing</td>\n",
              "      <td>Wednesday</td>\n",
              "      <td>9</td>\n",
              "      <td>0.75</td>\n",
              "      <td>2.90</td>\n",
              "      <td>NaN</td>\n",
              "      <td>1800</td>\n",
              "      <td>0</td>\n",
              "      <td>0.0</td>\n",
              "      <td>0</td>\n",
              "      <td>0</td>\n",
              "      <td>15.0</td>\n",
              "      <td>0.505889</td>\n",
              "    </tr>\n",
              "    <tr>\n",
              "      <th>1196</th>\n",
              "      <td>3/11/2015</td>\n",
              "      <td>Quarter2</td>\n",
              "      <td>finishing</td>\n",
              "      <td>Wednesday</td>\n",
              "      <td>6</td>\n",
              "      <td>0.70</td>\n",
              "      <td>2.90</td>\n",
              "      <td>NaN</td>\n",
              "      <td>720</td>\n",
              "      <td>0</td>\n",
              "      <td>0.0</td>\n",
              "      <td>0</td>\n",
              "      <td>0</td>\n",
              "      <td>6.0</td>\n",
              "      <td>0.394722</td>\n",
              "    </tr>\n",
              "  </tbody>\n",
              "</table>\n",
              "<p>1197 rows × 15 columns</p>\n",
              "</div>"
            ],
            "text/plain": [
              "           date   quarter  ... no_of_workers actual_productivity\n",
              "0      1/1/2015  Quarter1  ...          59.0            0.940725\n",
              "1      1/1/2015  Quarter1  ...           8.0            0.886500\n",
              "2      1/1/2015  Quarter1  ...          30.5            0.800570\n",
              "3      1/1/2015  Quarter1  ...          30.5            0.800570\n",
              "4      1/1/2015  Quarter1  ...          56.0            0.800382\n",
              "...         ...       ...  ...           ...                 ...\n",
              "1192  3/11/2015  Quarter2  ...           8.0            0.628333\n",
              "1193  3/11/2015  Quarter2  ...           8.0            0.625625\n",
              "1194  3/11/2015  Quarter2  ...           8.0            0.625625\n",
              "1195  3/11/2015  Quarter2  ...          15.0            0.505889\n",
              "1196  3/11/2015  Quarter2  ...           6.0            0.394722\n",
              "\n",
              "[1197 rows x 15 columns]"
            ]
          },
          "metadata": {
            "tags": []
          },
          "execution_count": 55
        }
      ]
    },
    {
      "cell_type": "code",
      "metadata": {
        "id": "7H10gVaz6BLi",
        "colab": {
          "base_uri": "https://localhost:8080/"
        },
        "outputId": "9d139fc8-4c7d-4420-f2e7-90e1dbea1be9"
      },
      "source": [
        "# RD GIT. 1.3 Análisis básico de datos\n",
        "#Las estadísticas descriptivas incluyen el  resumen la tendencia central, la dispersión y la forma de la distribución de un conjunto de datos, \n",
        "# excluyendo los valores NaN\n",
        "dataset.describe"
      ],
      "execution_count": 56,
      "outputs": [
        {
          "output_type": "execute_result",
          "data": {
            "text/plain": [
              "<bound method NDFrame.describe of            date   quarter  ... no_of_workers actual_productivity\n",
              "0      1/1/2015  Quarter1  ...          59.0            0.940725\n",
              "1      1/1/2015  Quarter1  ...           8.0            0.886500\n",
              "2      1/1/2015  Quarter1  ...          30.5            0.800570\n",
              "3      1/1/2015  Quarter1  ...          30.5            0.800570\n",
              "4      1/1/2015  Quarter1  ...          56.0            0.800382\n",
              "...         ...       ...  ...           ...                 ...\n",
              "1192  3/11/2015  Quarter2  ...           8.0            0.628333\n",
              "1193  3/11/2015  Quarter2  ...           8.0            0.625625\n",
              "1194  3/11/2015  Quarter2  ...           8.0            0.625625\n",
              "1195  3/11/2015  Quarter2  ...          15.0            0.505889\n",
              "1196  3/11/2015  Quarter2  ...           6.0            0.394722\n",
              "\n",
              "[1197 rows x 15 columns]>"
            ]
          },
          "metadata": {
            "tags": []
          },
          "execution_count": 56
        }
      ]
    },
    {
      "cell_type": "code",
      "metadata": {
        "id": "J3QqUlr2mNp_",
        "colab": {
          "base_uri": "https://localhost:8080/"
        },
        "outputId": "23293376-4243-4d64-94d0-e376bd017704"
      },
      "source": [
        "# RD GIT. 1.3 Análisis básico de datos\n",
        "#Revisar el dataset en funcion al tipo de datos de cada columna.\n",
        "dataset.dtypes"
      ],
      "execution_count": 57,
      "outputs": [
        {
          "output_type": "execute_result",
          "data": {
            "text/plain": [
              "date                      object\n",
              "quarter                   object\n",
              "department                object\n",
              "day                       object\n",
              "team                       int64\n",
              "targeted_productivity    float64\n",
              "smv                      float64\n",
              "wip                      float64\n",
              "over_time                  int64\n",
              "incentive                  int64\n",
              "idle_time                float64\n",
              "idle_men                   int64\n",
              "no_of_style_change         int64\n",
              "no_of_workers            float64\n",
              "actual_productivity      float64\n",
              "dtype: object"
            ]
          },
          "metadata": {
            "tags": []
          },
          "execution_count": 57
        }
      ]
    },
    {
      "cell_type": "code",
      "metadata": {
        "id": "bn0buFzwyTBH",
        "colab": {
          "base_uri": "https://localhost:8080/",
          "height": 223
        },
        "outputId": "4a0c0d20-9343-42a2-c156-5ffb91905027"
      },
      "source": [
        "# RD GIT. 1.4 Tratamiento básico de columnas\n",
        "#renombramos el nombre de la columna\n",
        "dataset.rename(columns={'day': 'dia_semana'},  inplace=True)\n",
        "dataset.rename(columns={'quarter': 'semana'},  inplace=True)\n",
        "dataset.head()"
      ],
      "execution_count": 58,
      "outputs": [
        {
          "output_type": "execute_result",
          "data": {
            "text/html": [
              "<div>\n",
              "<style scoped>\n",
              "    .dataframe tbody tr th:only-of-type {\n",
              "        vertical-align: middle;\n",
              "    }\n",
              "\n",
              "    .dataframe tbody tr th {\n",
              "        vertical-align: top;\n",
              "    }\n",
              "\n",
              "    .dataframe thead th {\n",
              "        text-align: right;\n",
              "    }\n",
              "</style>\n",
              "<table border=\"1\" class=\"dataframe\">\n",
              "  <thead>\n",
              "    <tr style=\"text-align: right;\">\n",
              "      <th></th>\n",
              "      <th>date</th>\n",
              "      <th>semana</th>\n",
              "      <th>department</th>\n",
              "      <th>dia_semana</th>\n",
              "      <th>team</th>\n",
              "      <th>targeted_productivity</th>\n",
              "      <th>smv</th>\n",
              "      <th>wip</th>\n",
              "      <th>over_time</th>\n",
              "      <th>incentive</th>\n",
              "      <th>idle_time</th>\n",
              "      <th>idle_men</th>\n",
              "      <th>no_of_style_change</th>\n",
              "      <th>no_of_workers</th>\n",
              "      <th>actual_productivity</th>\n",
              "    </tr>\n",
              "  </thead>\n",
              "  <tbody>\n",
              "    <tr>\n",
              "      <th>0</th>\n",
              "      <td>1/1/2015</td>\n",
              "      <td>Quarter1</td>\n",
              "      <td>sweing</td>\n",
              "      <td>Thursday</td>\n",
              "      <td>8</td>\n",
              "      <td>0.80</td>\n",
              "      <td>26.16</td>\n",
              "      <td>1108.0</td>\n",
              "      <td>7080</td>\n",
              "      <td>98</td>\n",
              "      <td>0.0</td>\n",
              "      <td>0</td>\n",
              "      <td>0</td>\n",
              "      <td>59.0</td>\n",
              "      <td>0.940725</td>\n",
              "    </tr>\n",
              "    <tr>\n",
              "      <th>1</th>\n",
              "      <td>1/1/2015</td>\n",
              "      <td>Quarter1</td>\n",
              "      <td>finishing</td>\n",
              "      <td>Thursday</td>\n",
              "      <td>1</td>\n",
              "      <td>0.75</td>\n",
              "      <td>3.94</td>\n",
              "      <td>NaN</td>\n",
              "      <td>960</td>\n",
              "      <td>0</td>\n",
              "      <td>0.0</td>\n",
              "      <td>0</td>\n",
              "      <td>0</td>\n",
              "      <td>8.0</td>\n",
              "      <td>0.886500</td>\n",
              "    </tr>\n",
              "    <tr>\n",
              "      <th>2</th>\n",
              "      <td>1/1/2015</td>\n",
              "      <td>Quarter1</td>\n",
              "      <td>sweing</td>\n",
              "      <td>Thursday</td>\n",
              "      <td>11</td>\n",
              "      <td>0.80</td>\n",
              "      <td>11.41</td>\n",
              "      <td>968.0</td>\n",
              "      <td>3660</td>\n",
              "      <td>50</td>\n",
              "      <td>0.0</td>\n",
              "      <td>0</td>\n",
              "      <td>0</td>\n",
              "      <td>30.5</td>\n",
              "      <td>0.800570</td>\n",
              "    </tr>\n",
              "    <tr>\n",
              "      <th>3</th>\n",
              "      <td>1/1/2015</td>\n",
              "      <td>Quarter1</td>\n",
              "      <td>sweing</td>\n",
              "      <td>Thursday</td>\n",
              "      <td>12</td>\n",
              "      <td>0.80</td>\n",
              "      <td>11.41</td>\n",
              "      <td>968.0</td>\n",
              "      <td>3660</td>\n",
              "      <td>50</td>\n",
              "      <td>0.0</td>\n",
              "      <td>0</td>\n",
              "      <td>0</td>\n",
              "      <td>30.5</td>\n",
              "      <td>0.800570</td>\n",
              "    </tr>\n",
              "    <tr>\n",
              "      <th>4</th>\n",
              "      <td>1/1/2015</td>\n",
              "      <td>Quarter1</td>\n",
              "      <td>sweing</td>\n",
              "      <td>Thursday</td>\n",
              "      <td>6</td>\n",
              "      <td>0.80</td>\n",
              "      <td>25.90</td>\n",
              "      <td>1170.0</td>\n",
              "      <td>1920</td>\n",
              "      <td>50</td>\n",
              "      <td>0.0</td>\n",
              "      <td>0</td>\n",
              "      <td>0</td>\n",
              "      <td>56.0</td>\n",
              "      <td>0.800382</td>\n",
              "    </tr>\n",
              "  </tbody>\n",
              "</table>\n",
              "</div>"
            ],
            "text/plain": [
              "       date    semana  ... no_of_workers actual_productivity\n",
              "0  1/1/2015  Quarter1  ...          59.0            0.940725\n",
              "1  1/1/2015  Quarter1  ...           8.0            0.886500\n",
              "2  1/1/2015  Quarter1  ...          30.5            0.800570\n",
              "3  1/1/2015  Quarter1  ...          30.5            0.800570\n",
              "4  1/1/2015  Quarter1  ...          56.0            0.800382\n",
              "\n",
              "[5 rows x 15 columns]"
            ]
          },
          "metadata": {
            "tags": []
          },
          "execution_count": 58
        }
      ]
    },
    {
      "cell_type": "code",
      "metadata": {
        "id": "h6ZVGz9BTQ9I",
        "colab": {
          "base_uri": "https://localhost:8080/"
        },
        "outputId": "e002be7e-21fc-4d7e-ef9a-80676d895bc2"
      },
      "source": [
        "# RD GIT. 1.4 Tratamiento básico de columnas\n",
        "# VER EL TIPO DE DATO A CONVERTIR\n",
        "dataset[\"date\"] "
      ],
      "execution_count": 59,
      "outputs": [
        {
          "output_type": "execute_result",
          "data": {
            "text/plain": [
              "0        1/1/2015\n",
              "1        1/1/2015\n",
              "2        1/1/2015\n",
              "3        1/1/2015\n",
              "4        1/1/2015\n",
              "          ...    \n",
              "1192    3/11/2015\n",
              "1193    3/11/2015\n",
              "1194    3/11/2015\n",
              "1195    3/11/2015\n",
              "1196    3/11/2015\n",
              "Name: date, Length: 1197, dtype: object"
            ]
          },
          "metadata": {
            "tags": []
          },
          "execution_count": 59
        }
      ]
    },
    {
      "cell_type": "code",
      "metadata": {
        "id": "zNkhqgfWbWi6",
        "colab": {
          "base_uri": "https://localhost:8080/"
        },
        "outputId": "bf65eb53-09c4-48c8-89e4-6bd2414e1ce2"
      },
      "source": [
        "# RD GIT. 1.4 Tratamiento básico de columnas\n",
        "# CONVERTIMOS LA VARIABLE A STRING\n",
        "dataset[\"date\"]  = dataset[\"date\"].astype(\"string\")\n",
        "\n",
        "# CONVERTIRMOS LA VARIABLE A DATETIME\n",
        "dataset[\"date\"] =  pd.to_datetime(dataset[\"date\"], format=\"%m/%d/%Y\")\n",
        "\n",
        "# CONVERTIRMOS LA VARIABLE AL FORMATO AÑO-MES-DIA\n",
        "dataset[\"date\"] =  pd.to_datetime(dataset[\"date\"], format=\"%Y%m%d\")\n",
        "\n",
        "# VER EL TIPO DE DATO CONVERTIDO\n",
        "dataset[\"date\"] "
      ],
      "execution_count": 60,
      "outputs": [
        {
          "output_type": "execute_result",
          "data": {
            "text/plain": [
              "0      2015-01-01\n",
              "1      2015-01-01\n",
              "2      2015-01-01\n",
              "3      2015-01-01\n",
              "4      2015-01-01\n",
              "          ...    \n",
              "1192   2015-03-11\n",
              "1193   2015-03-11\n",
              "1194   2015-03-11\n",
              "1195   2015-03-11\n",
              "1196   2015-03-11\n",
              "Name: date, Length: 1197, dtype: datetime64[ns]"
            ]
          },
          "metadata": {
            "tags": []
          },
          "execution_count": 60
        }
      ]
    },
    {
      "cell_type": "code",
      "metadata": {
        "id": "K_DnkdxQeqBF",
        "colab": {
          "base_uri": "https://localhost:8080/",
          "height": 307
        },
        "outputId": "eee39876-8fb0-40a2-de3a-d3db3025efd1"
      },
      "source": [
        "# RD GIT. 1.4 Tratamiento básico de columnas\n",
        "# CODIGO PARA SEPARAR LA FECHA\n",
        "from datetime import datetime as dt\n",
        "\n",
        "new_fecha=pd.to_datetime(dataset[\"date\"], format=\"%Y%m%d\")\n",
        "dataset[\"anio\"]=new_fecha.dt.strftime(\"%Y\").astype(str).astype(int)\n",
        "dataset[\"mes\"]=new_fecha.dt.strftime(\"%m\").astype(str).astype(int)\n",
        "dataset[\"dia_mes\"]=new_fecha.dt.strftime(\"%d\").astype(str).astype(int)\n",
        "dataset.head()\n"
      ],
      "execution_count": 61,
      "outputs": [
        {
          "output_type": "execute_result",
          "data": {
            "text/html": [
              "<div>\n",
              "<style scoped>\n",
              "    .dataframe tbody tr th:only-of-type {\n",
              "        vertical-align: middle;\n",
              "    }\n",
              "\n",
              "    .dataframe tbody tr th {\n",
              "        vertical-align: top;\n",
              "    }\n",
              "\n",
              "    .dataframe thead th {\n",
              "        text-align: right;\n",
              "    }\n",
              "</style>\n",
              "<table border=\"1\" class=\"dataframe\">\n",
              "  <thead>\n",
              "    <tr style=\"text-align: right;\">\n",
              "      <th></th>\n",
              "      <th>date</th>\n",
              "      <th>semana</th>\n",
              "      <th>department</th>\n",
              "      <th>dia_semana</th>\n",
              "      <th>team</th>\n",
              "      <th>targeted_productivity</th>\n",
              "      <th>smv</th>\n",
              "      <th>wip</th>\n",
              "      <th>over_time</th>\n",
              "      <th>incentive</th>\n",
              "      <th>idle_time</th>\n",
              "      <th>idle_men</th>\n",
              "      <th>no_of_style_change</th>\n",
              "      <th>no_of_workers</th>\n",
              "      <th>actual_productivity</th>\n",
              "      <th>anio</th>\n",
              "      <th>mes</th>\n",
              "      <th>dia_mes</th>\n",
              "    </tr>\n",
              "  </thead>\n",
              "  <tbody>\n",
              "    <tr>\n",
              "      <th>0</th>\n",
              "      <td>2015-01-01</td>\n",
              "      <td>Quarter1</td>\n",
              "      <td>sweing</td>\n",
              "      <td>Thursday</td>\n",
              "      <td>8</td>\n",
              "      <td>0.80</td>\n",
              "      <td>26.16</td>\n",
              "      <td>1108.0</td>\n",
              "      <td>7080</td>\n",
              "      <td>98</td>\n",
              "      <td>0.0</td>\n",
              "      <td>0</td>\n",
              "      <td>0</td>\n",
              "      <td>59.0</td>\n",
              "      <td>0.940725</td>\n",
              "      <td>2015</td>\n",
              "      <td>1</td>\n",
              "      <td>1</td>\n",
              "    </tr>\n",
              "    <tr>\n",
              "      <th>1</th>\n",
              "      <td>2015-01-01</td>\n",
              "      <td>Quarter1</td>\n",
              "      <td>finishing</td>\n",
              "      <td>Thursday</td>\n",
              "      <td>1</td>\n",
              "      <td>0.75</td>\n",
              "      <td>3.94</td>\n",
              "      <td>NaN</td>\n",
              "      <td>960</td>\n",
              "      <td>0</td>\n",
              "      <td>0.0</td>\n",
              "      <td>0</td>\n",
              "      <td>0</td>\n",
              "      <td>8.0</td>\n",
              "      <td>0.886500</td>\n",
              "      <td>2015</td>\n",
              "      <td>1</td>\n",
              "      <td>1</td>\n",
              "    </tr>\n",
              "    <tr>\n",
              "      <th>2</th>\n",
              "      <td>2015-01-01</td>\n",
              "      <td>Quarter1</td>\n",
              "      <td>sweing</td>\n",
              "      <td>Thursday</td>\n",
              "      <td>11</td>\n",
              "      <td>0.80</td>\n",
              "      <td>11.41</td>\n",
              "      <td>968.0</td>\n",
              "      <td>3660</td>\n",
              "      <td>50</td>\n",
              "      <td>0.0</td>\n",
              "      <td>0</td>\n",
              "      <td>0</td>\n",
              "      <td>30.5</td>\n",
              "      <td>0.800570</td>\n",
              "      <td>2015</td>\n",
              "      <td>1</td>\n",
              "      <td>1</td>\n",
              "    </tr>\n",
              "    <tr>\n",
              "      <th>3</th>\n",
              "      <td>2015-01-01</td>\n",
              "      <td>Quarter1</td>\n",
              "      <td>sweing</td>\n",
              "      <td>Thursday</td>\n",
              "      <td>12</td>\n",
              "      <td>0.80</td>\n",
              "      <td>11.41</td>\n",
              "      <td>968.0</td>\n",
              "      <td>3660</td>\n",
              "      <td>50</td>\n",
              "      <td>0.0</td>\n",
              "      <td>0</td>\n",
              "      <td>0</td>\n",
              "      <td>30.5</td>\n",
              "      <td>0.800570</td>\n",
              "      <td>2015</td>\n",
              "      <td>1</td>\n",
              "      <td>1</td>\n",
              "    </tr>\n",
              "    <tr>\n",
              "      <th>4</th>\n",
              "      <td>2015-01-01</td>\n",
              "      <td>Quarter1</td>\n",
              "      <td>sweing</td>\n",
              "      <td>Thursday</td>\n",
              "      <td>6</td>\n",
              "      <td>0.80</td>\n",
              "      <td>25.90</td>\n",
              "      <td>1170.0</td>\n",
              "      <td>1920</td>\n",
              "      <td>50</td>\n",
              "      <td>0.0</td>\n",
              "      <td>0</td>\n",
              "      <td>0</td>\n",
              "      <td>56.0</td>\n",
              "      <td>0.800382</td>\n",
              "      <td>2015</td>\n",
              "      <td>1</td>\n",
              "      <td>1</td>\n",
              "    </tr>\n",
              "  </tbody>\n",
              "</table>\n",
              "</div>"
            ],
            "text/plain": [
              "        date    semana  department  ...  anio  mes  dia_mes\n",
              "0 2015-01-01  Quarter1      sweing  ...  2015    1        1\n",
              "1 2015-01-01  Quarter1  finishing   ...  2015    1        1\n",
              "2 2015-01-01  Quarter1      sweing  ...  2015    1        1\n",
              "3 2015-01-01  Quarter1      sweing  ...  2015    1        1\n",
              "4 2015-01-01  Quarter1      sweing  ...  2015    1        1\n",
              "\n",
              "[5 rows x 18 columns]"
            ]
          },
          "metadata": {
            "tags": []
          },
          "execution_count": 61
        }
      ]
    },
    {
      "cell_type": "code",
      "metadata": {
        "id": "wGx2OgXdno8N",
        "colab": {
          "base_uri": "https://localhost:8080/",
          "height": 307
        },
        "outputId": "4994e552-b4aa-4f6b-9d10-f980109066ac"
      },
      "source": [
        "# RD GIT. 1.4 Tratamiento básico de columnas\n",
        "# CODIGO PARA ORDERNAR LAS COUMNAS AGREGADAS\n",
        "for x in range(3):\n",
        "  cols = dataset.columns.tolist()\n",
        "  cols = cols[-1:] + cols[:-1]\n",
        "  dataset = dataset[cols]\n",
        "dataset.head()"
      ],
      "execution_count": 62,
      "outputs": [
        {
          "output_type": "execute_result",
          "data": {
            "text/html": [
              "<div>\n",
              "<style scoped>\n",
              "    .dataframe tbody tr th:only-of-type {\n",
              "        vertical-align: middle;\n",
              "    }\n",
              "\n",
              "    .dataframe tbody tr th {\n",
              "        vertical-align: top;\n",
              "    }\n",
              "\n",
              "    .dataframe thead th {\n",
              "        text-align: right;\n",
              "    }\n",
              "</style>\n",
              "<table border=\"1\" class=\"dataframe\">\n",
              "  <thead>\n",
              "    <tr style=\"text-align: right;\">\n",
              "      <th></th>\n",
              "      <th>anio</th>\n",
              "      <th>mes</th>\n",
              "      <th>dia_mes</th>\n",
              "      <th>date</th>\n",
              "      <th>semana</th>\n",
              "      <th>department</th>\n",
              "      <th>dia_semana</th>\n",
              "      <th>team</th>\n",
              "      <th>targeted_productivity</th>\n",
              "      <th>smv</th>\n",
              "      <th>wip</th>\n",
              "      <th>over_time</th>\n",
              "      <th>incentive</th>\n",
              "      <th>idle_time</th>\n",
              "      <th>idle_men</th>\n",
              "      <th>no_of_style_change</th>\n",
              "      <th>no_of_workers</th>\n",
              "      <th>actual_productivity</th>\n",
              "    </tr>\n",
              "  </thead>\n",
              "  <tbody>\n",
              "    <tr>\n",
              "      <th>0</th>\n",
              "      <td>2015</td>\n",
              "      <td>1</td>\n",
              "      <td>1</td>\n",
              "      <td>2015-01-01</td>\n",
              "      <td>Quarter1</td>\n",
              "      <td>sweing</td>\n",
              "      <td>Thursday</td>\n",
              "      <td>8</td>\n",
              "      <td>0.80</td>\n",
              "      <td>26.16</td>\n",
              "      <td>1108.0</td>\n",
              "      <td>7080</td>\n",
              "      <td>98</td>\n",
              "      <td>0.0</td>\n",
              "      <td>0</td>\n",
              "      <td>0</td>\n",
              "      <td>59.0</td>\n",
              "      <td>0.940725</td>\n",
              "    </tr>\n",
              "    <tr>\n",
              "      <th>1</th>\n",
              "      <td>2015</td>\n",
              "      <td>1</td>\n",
              "      <td>1</td>\n",
              "      <td>2015-01-01</td>\n",
              "      <td>Quarter1</td>\n",
              "      <td>finishing</td>\n",
              "      <td>Thursday</td>\n",
              "      <td>1</td>\n",
              "      <td>0.75</td>\n",
              "      <td>3.94</td>\n",
              "      <td>NaN</td>\n",
              "      <td>960</td>\n",
              "      <td>0</td>\n",
              "      <td>0.0</td>\n",
              "      <td>0</td>\n",
              "      <td>0</td>\n",
              "      <td>8.0</td>\n",
              "      <td>0.886500</td>\n",
              "    </tr>\n",
              "    <tr>\n",
              "      <th>2</th>\n",
              "      <td>2015</td>\n",
              "      <td>1</td>\n",
              "      <td>1</td>\n",
              "      <td>2015-01-01</td>\n",
              "      <td>Quarter1</td>\n",
              "      <td>sweing</td>\n",
              "      <td>Thursday</td>\n",
              "      <td>11</td>\n",
              "      <td>0.80</td>\n",
              "      <td>11.41</td>\n",
              "      <td>968.0</td>\n",
              "      <td>3660</td>\n",
              "      <td>50</td>\n",
              "      <td>0.0</td>\n",
              "      <td>0</td>\n",
              "      <td>0</td>\n",
              "      <td>30.5</td>\n",
              "      <td>0.800570</td>\n",
              "    </tr>\n",
              "    <tr>\n",
              "      <th>3</th>\n",
              "      <td>2015</td>\n",
              "      <td>1</td>\n",
              "      <td>1</td>\n",
              "      <td>2015-01-01</td>\n",
              "      <td>Quarter1</td>\n",
              "      <td>sweing</td>\n",
              "      <td>Thursday</td>\n",
              "      <td>12</td>\n",
              "      <td>0.80</td>\n",
              "      <td>11.41</td>\n",
              "      <td>968.0</td>\n",
              "      <td>3660</td>\n",
              "      <td>50</td>\n",
              "      <td>0.0</td>\n",
              "      <td>0</td>\n",
              "      <td>0</td>\n",
              "      <td>30.5</td>\n",
              "      <td>0.800570</td>\n",
              "    </tr>\n",
              "    <tr>\n",
              "      <th>4</th>\n",
              "      <td>2015</td>\n",
              "      <td>1</td>\n",
              "      <td>1</td>\n",
              "      <td>2015-01-01</td>\n",
              "      <td>Quarter1</td>\n",
              "      <td>sweing</td>\n",
              "      <td>Thursday</td>\n",
              "      <td>6</td>\n",
              "      <td>0.80</td>\n",
              "      <td>25.90</td>\n",
              "      <td>1170.0</td>\n",
              "      <td>1920</td>\n",
              "      <td>50</td>\n",
              "      <td>0.0</td>\n",
              "      <td>0</td>\n",
              "      <td>0</td>\n",
              "      <td>56.0</td>\n",
              "      <td>0.800382</td>\n",
              "    </tr>\n",
              "  </tbody>\n",
              "</table>\n",
              "</div>"
            ],
            "text/plain": [
              "   anio  mes  dia_mes  ... no_of_style_change no_of_workers actual_productivity\n",
              "0  2015    1        1  ...                  0          59.0            0.940725\n",
              "1  2015    1        1  ...                  0           8.0            0.886500\n",
              "2  2015    1        1  ...                  0          30.5            0.800570\n",
              "3  2015    1        1  ...                  0          30.5            0.800570\n",
              "4  2015    1        1  ...                  0          56.0            0.800382\n",
              "\n",
              "[5 rows x 18 columns]"
            ]
          },
          "metadata": {
            "tags": []
          },
          "execution_count": 62
        }
      ]
    },
    {
      "cell_type": "code",
      "metadata": {
        "id": "WvMUW7sP0Xs4",
        "colab": {
          "base_uri": "https://localhost:8080/"
        },
        "outputId": "9c12cf50-0d61-4921-fb91-a78ae2bac109"
      },
      "source": [
        "# RD GIT. 1.4 Tratamiento básico de columnas\n",
        "# se procede a eliminar la columna date (ya que se trató la información anteriormente) y la columna anio (es un valor único que no aporta valor)\n",
        "dataset.drop([\"anio\",\"date\"], axis=1, inplace = True)\n",
        "dataset.dtypes"
      ],
      "execution_count": 63,
      "outputs": [
        {
          "output_type": "execute_result",
          "data": {
            "text/plain": [
              "mes                        int64\n",
              "dia_mes                    int64\n",
              "semana                    object\n",
              "department                object\n",
              "dia_semana                object\n",
              "team                       int64\n",
              "targeted_productivity    float64\n",
              "smv                      float64\n",
              "wip                      float64\n",
              "over_time                  int64\n",
              "incentive                  int64\n",
              "idle_time                float64\n",
              "idle_men                   int64\n",
              "no_of_style_change         int64\n",
              "no_of_workers            float64\n",
              "actual_productivity      float64\n",
              "dtype: object"
            ]
          },
          "metadata": {
            "tags": []
          },
          "execution_count": 63
        }
      ]
    },
    {
      "cell_type": "code",
      "metadata": {
        "id": "KQc8IFc9uKYf",
        "colab": {
          "base_uri": "https://localhost:8080/"
        },
        "outputId": "e9cc0872-0963-48f1-e15c-1437e548563e"
      },
      "source": [
        "# RD GIT. 1.4 Tratamiento básico de columnas\n",
        "# Cantidad de filas (registros) únicas por cada columna (variable)\n",
        "dataset.nunique()"
      ],
      "execution_count": 64,
      "outputs": [
        {
          "output_type": "execute_result",
          "data": {
            "text/plain": [
              "mes                        3\n",
              "dia_mes                   30\n",
              "semana                     5\n",
              "department                 3\n",
              "dia_semana                 6\n",
              "team                      12\n",
              "targeted_productivity      9\n",
              "smv                       70\n",
              "wip                      548\n",
              "over_time                143\n",
              "incentive                 48\n",
              "idle_time                 12\n",
              "idle_men                  10\n",
              "no_of_style_change         3\n",
              "no_of_workers             61\n",
              "actual_productivity      879\n",
              "dtype: int64"
            ]
          },
          "metadata": {
            "tags": []
          },
          "execution_count": 64
        }
      ]
    },
    {
      "cell_type": "code",
      "metadata": {
        "id": "Bbnkj4ouTgdz"
      },
      "source": [
        "# RD GIT. 1.4 Tratamiento básico de columnas\n",
        "# Se valida que la columna department cuenta 3 categorias pero solo se visualiza 2\n",
        "# se procede a corregir\n",
        "\n",
        "dataset[\"department\"] = dataset[\"department\"].str.rstrip()"
      ],
      "execution_count": 65,
      "outputs": []
    },
    {
      "cell_type": "code",
      "metadata": {
        "id": "3ZnPWUbyuffV",
        "colab": {
          "base_uri": "https://localhost:8080/"
        },
        "outputId": "ca8c568b-1cd1-4e73-8eba-9b9d31d0cf02"
      },
      "source": [
        "# DP GIT. 1.5 Tratamiento de nulos y duplicados\n",
        "#Porcentaje de filas (registros) únicas por cada columna (variable). Mientras más cercano el valor a 1 significa que tiene más filas (registros) únicos\n",
        "dataset.nunique() / len(dataset)"
      ],
      "execution_count": 66,
      "outputs": [
        {
          "output_type": "execute_result",
          "data": {
            "text/plain": [
              "mes                      0.002506\n",
              "dia_mes                  0.025063\n",
              "semana                   0.004177\n",
              "department               0.001671\n",
              "dia_semana               0.005013\n",
              "team                     0.010025\n",
              "targeted_productivity    0.007519\n",
              "smv                      0.058480\n",
              "wip                      0.457811\n",
              "over_time                0.119465\n",
              "incentive                0.040100\n",
              "idle_time                0.010025\n",
              "idle_men                 0.008354\n",
              "no_of_style_change       0.002506\n",
              "no_of_workers            0.050961\n",
              "actual_productivity      0.734336\n",
              "dtype: float64"
            ]
          },
          "metadata": {
            "tags": []
          },
          "execution_count": 66
        }
      ]
    },
    {
      "cell_type": "code",
      "metadata": {
        "id": "7Zgkl121uo0O",
        "colab": {
          "base_uri": "https://localhost:8080/",
          "height": 437
        },
        "outputId": "d9960817-a52d-4e03-8361-aafcada0f025"
      },
      "source": [
        "# DP GIT. 1.5 Tratamiento de nulos y duplicados\n",
        "#Visualizamos si las filas (registros) tienen nulos o no. El valor \"True\" indica que es nulo y \"False\" que no lo es\n",
        "dataset.isna()"
      ],
      "execution_count": 67,
      "outputs": [
        {
          "output_type": "execute_result",
          "data": {
            "text/html": [
              "<div>\n",
              "<style scoped>\n",
              "    .dataframe tbody tr th:only-of-type {\n",
              "        vertical-align: middle;\n",
              "    }\n",
              "\n",
              "    .dataframe tbody tr th {\n",
              "        vertical-align: top;\n",
              "    }\n",
              "\n",
              "    .dataframe thead th {\n",
              "        text-align: right;\n",
              "    }\n",
              "</style>\n",
              "<table border=\"1\" class=\"dataframe\">\n",
              "  <thead>\n",
              "    <tr style=\"text-align: right;\">\n",
              "      <th></th>\n",
              "      <th>mes</th>\n",
              "      <th>dia_mes</th>\n",
              "      <th>semana</th>\n",
              "      <th>department</th>\n",
              "      <th>dia_semana</th>\n",
              "      <th>team</th>\n",
              "      <th>targeted_productivity</th>\n",
              "      <th>smv</th>\n",
              "      <th>wip</th>\n",
              "      <th>over_time</th>\n",
              "      <th>incentive</th>\n",
              "      <th>idle_time</th>\n",
              "      <th>idle_men</th>\n",
              "      <th>no_of_style_change</th>\n",
              "      <th>no_of_workers</th>\n",
              "      <th>actual_productivity</th>\n",
              "    </tr>\n",
              "  </thead>\n",
              "  <tbody>\n",
              "    <tr>\n",
              "      <th>0</th>\n",
              "      <td>False</td>\n",
              "      <td>False</td>\n",
              "      <td>False</td>\n",
              "      <td>False</td>\n",
              "      <td>False</td>\n",
              "      <td>False</td>\n",
              "      <td>False</td>\n",
              "      <td>False</td>\n",
              "      <td>False</td>\n",
              "      <td>False</td>\n",
              "      <td>False</td>\n",
              "      <td>False</td>\n",
              "      <td>False</td>\n",
              "      <td>False</td>\n",
              "      <td>False</td>\n",
              "      <td>False</td>\n",
              "    </tr>\n",
              "    <tr>\n",
              "      <th>1</th>\n",
              "      <td>False</td>\n",
              "      <td>False</td>\n",
              "      <td>False</td>\n",
              "      <td>False</td>\n",
              "      <td>False</td>\n",
              "      <td>False</td>\n",
              "      <td>False</td>\n",
              "      <td>False</td>\n",
              "      <td>True</td>\n",
              "      <td>False</td>\n",
              "      <td>False</td>\n",
              "      <td>False</td>\n",
              "      <td>False</td>\n",
              "      <td>False</td>\n",
              "      <td>False</td>\n",
              "      <td>False</td>\n",
              "    </tr>\n",
              "    <tr>\n",
              "      <th>2</th>\n",
              "      <td>False</td>\n",
              "      <td>False</td>\n",
              "      <td>False</td>\n",
              "      <td>False</td>\n",
              "      <td>False</td>\n",
              "      <td>False</td>\n",
              "      <td>False</td>\n",
              "      <td>False</td>\n",
              "      <td>False</td>\n",
              "      <td>False</td>\n",
              "      <td>False</td>\n",
              "      <td>False</td>\n",
              "      <td>False</td>\n",
              "      <td>False</td>\n",
              "      <td>False</td>\n",
              "      <td>False</td>\n",
              "    </tr>\n",
              "    <tr>\n",
              "      <th>3</th>\n",
              "      <td>False</td>\n",
              "      <td>False</td>\n",
              "      <td>False</td>\n",
              "      <td>False</td>\n",
              "      <td>False</td>\n",
              "      <td>False</td>\n",
              "      <td>False</td>\n",
              "      <td>False</td>\n",
              "      <td>False</td>\n",
              "      <td>False</td>\n",
              "      <td>False</td>\n",
              "      <td>False</td>\n",
              "      <td>False</td>\n",
              "      <td>False</td>\n",
              "      <td>False</td>\n",
              "      <td>False</td>\n",
              "    </tr>\n",
              "    <tr>\n",
              "      <th>4</th>\n",
              "      <td>False</td>\n",
              "      <td>False</td>\n",
              "      <td>False</td>\n",
              "      <td>False</td>\n",
              "      <td>False</td>\n",
              "      <td>False</td>\n",
              "      <td>False</td>\n",
              "      <td>False</td>\n",
              "      <td>False</td>\n",
              "      <td>False</td>\n",
              "      <td>False</td>\n",
              "      <td>False</td>\n",
              "      <td>False</td>\n",
              "      <td>False</td>\n",
              "      <td>False</td>\n",
              "      <td>False</td>\n",
              "    </tr>\n",
              "    <tr>\n",
              "      <th>...</th>\n",
              "      <td>...</td>\n",
              "      <td>...</td>\n",
              "      <td>...</td>\n",
              "      <td>...</td>\n",
              "      <td>...</td>\n",
              "      <td>...</td>\n",
              "      <td>...</td>\n",
              "      <td>...</td>\n",
              "      <td>...</td>\n",
              "      <td>...</td>\n",
              "      <td>...</td>\n",
              "      <td>...</td>\n",
              "      <td>...</td>\n",
              "      <td>...</td>\n",
              "      <td>...</td>\n",
              "      <td>...</td>\n",
              "    </tr>\n",
              "    <tr>\n",
              "      <th>1192</th>\n",
              "      <td>False</td>\n",
              "      <td>False</td>\n",
              "      <td>False</td>\n",
              "      <td>False</td>\n",
              "      <td>False</td>\n",
              "      <td>False</td>\n",
              "      <td>False</td>\n",
              "      <td>False</td>\n",
              "      <td>True</td>\n",
              "      <td>False</td>\n",
              "      <td>False</td>\n",
              "      <td>False</td>\n",
              "      <td>False</td>\n",
              "      <td>False</td>\n",
              "      <td>False</td>\n",
              "      <td>False</td>\n",
              "    </tr>\n",
              "    <tr>\n",
              "      <th>1193</th>\n",
              "      <td>False</td>\n",
              "      <td>False</td>\n",
              "      <td>False</td>\n",
              "      <td>False</td>\n",
              "      <td>False</td>\n",
              "      <td>False</td>\n",
              "      <td>False</td>\n",
              "      <td>False</td>\n",
              "      <td>True</td>\n",
              "      <td>False</td>\n",
              "      <td>False</td>\n",
              "      <td>False</td>\n",
              "      <td>False</td>\n",
              "      <td>False</td>\n",
              "      <td>False</td>\n",
              "      <td>False</td>\n",
              "    </tr>\n",
              "    <tr>\n",
              "      <th>1194</th>\n",
              "      <td>False</td>\n",
              "      <td>False</td>\n",
              "      <td>False</td>\n",
              "      <td>False</td>\n",
              "      <td>False</td>\n",
              "      <td>False</td>\n",
              "      <td>False</td>\n",
              "      <td>False</td>\n",
              "      <td>True</td>\n",
              "      <td>False</td>\n",
              "      <td>False</td>\n",
              "      <td>False</td>\n",
              "      <td>False</td>\n",
              "      <td>False</td>\n",
              "      <td>False</td>\n",
              "      <td>False</td>\n",
              "    </tr>\n",
              "    <tr>\n",
              "      <th>1195</th>\n",
              "      <td>False</td>\n",
              "      <td>False</td>\n",
              "      <td>False</td>\n",
              "      <td>False</td>\n",
              "      <td>False</td>\n",
              "      <td>False</td>\n",
              "      <td>False</td>\n",
              "      <td>False</td>\n",
              "      <td>True</td>\n",
              "      <td>False</td>\n",
              "      <td>False</td>\n",
              "      <td>False</td>\n",
              "      <td>False</td>\n",
              "      <td>False</td>\n",
              "      <td>False</td>\n",
              "      <td>False</td>\n",
              "    </tr>\n",
              "    <tr>\n",
              "      <th>1196</th>\n",
              "      <td>False</td>\n",
              "      <td>False</td>\n",
              "      <td>False</td>\n",
              "      <td>False</td>\n",
              "      <td>False</td>\n",
              "      <td>False</td>\n",
              "      <td>False</td>\n",
              "      <td>False</td>\n",
              "      <td>True</td>\n",
              "      <td>False</td>\n",
              "      <td>False</td>\n",
              "      <td>False</td>\n",
              "      <td>False</td>\n",
              "      <td>False</td>\n",
              "      <td>False</td>\n",
              "      <td>False</td>\n",
              "    </tr>\n",
              "  </tbody>\n",
              "</table>\n",
              "<p>1197 rows × 16 columns</p>\n",
              "</div>"
            ],
            "text/plain": [
              "        mes  dia_mes  ...  no_of_workers  actual_productivity\n",
              "0     False    False  ...          False                False\n",
              "1     False    False  ...          False                False\n",
              "2     False    False  ...          False                False\n",
              "3     False    False  ...          False                False\n",
              "4     False    False  ...          False                False\n",
              "...     ...      ...  ...            ...                  ...\n",
              "1192  False    False  ...          False                False\n",
              "1193  False    False  ...          False                False\n",
              "1194  False    False  ...          False                False\n",
              "1195  False    False  ...          False                False\n",
              "1196  False    False  ...          False                False\n",
              "\n",
              "[1197 rows x 16 columns]"
            ]
          },
          "metadata": {
            "tags": []
          },
          "execution_count": 67
        }
      ]
    },
    {
      "cell_type": "code",
      "metadata": {
        "id": "gZt_EfomuvgZ",
        "colab": {
          "base_uri": "https://localhost:8080/"
        },
        "outputId": "d0b810fb-655a-43b4-e760-1840024bef0d"
      },
      "source": [
        "# DP GIT. 1.5 Tratamiento de nulos y duplicados\n",
        "#Cantidad de filas (registros) vacías por cada columna (variable)\n",
        "dataset.isna().sum()"
      ],
      "execution_count": 68,
      "outputs": [
        {
          "output_type": "execute_result",
          "data": {
            "text/plain": [
              "mes                        0\n",
              "dia_mes                    0\n",
              "semana                     0\n",
              "department                 0\n",
              "dia_semana                 0\n",
              "team                       0\n",
              "targeted_productivity      0\n",
              "smv                        0\n",
              "wip                      506\n",
              "over_time                  0\n",
              "incentive                  0\n",
              "idle_time                  0\n",
              "idle_men                   0\n",
              "no_of_style_change         0\n",
              "no_of_workers              0\n",
              "actual_productivity        0\n",
              "dtype: int64"
            ]
          },
          "metadata": {
            "tags": []
          },
          "execution_count": 68
        }
      ]
    },
    {
      "cell_type": "code",
      "metadata": {
        "id": "K7b8Lh1ku0fU",
        "colab": {
          "base_uri": "https://localhost:8080/"
        },
        "outputId": "a463a456-9ddf-4cf9-cfa3-4b5db1cdd8f3"
      },
      "source": [
        "# DP GIT. 1.5 Tratamiento de nulos y duplicados\n",
        "#Porcentaje de filas (registros) vacías por cada columna (variable). Cuanto más cercano el valor a 1 significa que tiene más filas (registros) vacías\n",
        "dataset.isna().sum() / len(dataset)"
      ],
      "execution_count": 69,
      "outputs": [
        {
          "output_type": "execute_result",
          "data": {
            "text/plain": [
              "mes                      0.000000\n",
              "dia_mes                  0.000000\n",
              "semana                   0.000000\n",
              "department               0.000000\n",
              "dia_semana               0.000000\n",
              "team                     0.000000\n",
              "targeted_productivity    0.000000\n",
              "smv                      0.000000\n",
              "wip                      0.422723\n",
              "over_time                0.000000\n",
              "incentive                0.000000\n",
              "idle_time                0.000000\n",
              "idle_men                 0.000000\n",
              "no_of_style_change       0.000000\n",
              "no_of_workers            0.000000\n",
              "actual_productivity      0.000000\n",
              "dtype: float64"
            ]
          },
          "metadata": {
            "tags": []
          },
          "execution_count": 69
        }
      ]
    },
    {
      "cell_type": "code",
      "metadata": {
        "id": "7EIKRiXju7jV",
        "colab": {
          "base_uri": "https://localhost:8080/"
        },
        "outputId": "64e1be3a-4ac7-44e6-cde6-29502f8cc32f"
      },
      "source": [
        "# DP GIT. 1.5 Tratamiento de nulos y duplicados\n",
        "#Obtenemos si las filas (registros) cumplen o no con la condición de tener nulos en la columna (variable) \"Embarked\"\n",
        "criteria = dataset.wip.isna()\n",
        "\n",
        "criteria"
      ],
      "execution_count": 70,
      "outputs": [
        {
          "output_type": "execute_result",
          "data": {
            "text/plain": [
              "0       False\n",
              "1        True\n",
              "2       False\n",
              "3       False\n",
              "4       False\n",
              "        ...  \n",
              "1192     True\n",
              "1193     True\n",
              "1194     True\n",
              "1195     True\n",
              "1196     True\n",
              "Name: wip, Length: 1197, dtype: bool"
            ]
          },
          "metadata": {
            "tags": []
          },
          "execution_count": 70
        }
      ]
    },
    {
      "cell_type": "code",
      "metadata": {
        "id": "blHW2nCcviRl",
        "colab": {
          "base_uri": "https://localhost:8080/",
          "height": 437
        },
        "outputId": "587c79b9-2747-4aa7-ac3e-af1206c007b0"
      },
      "source": [
        "# DP GIT. 1.5 Tratamiento de nulos y duplicados\n",
        "#Visualizamos las filas (registros) que cumplan con la condición de tener nulos en la columna (variable) \"Embarked\"\n",
        "dataset[criteria]"
      ],
      "execution_count": 71,
      "outputs": [
        {
          "output_type": "execute_result",
          "data": {
            "text/html": [
              "<div>\n",
              "<style scoped>\n",
              "    .dataframe tbody tr th:only-of-type {\n",
              "        vertical-align: middle;\n",
              "    }\n",
              "\n",
              "    .dataframe tbody tr th {\n",
              "        vertical-align: top;\n",
              "    }\n",
              "\n",
              "    .dataframe thead th {\n",
              "        text-align: right;\n",
              "    }\n",
              "</style>\n",
              "<table border=\"1\" class=\"dataframe\">\n",
              "  <thead>\n",
              "    <tr style=\"text-align: right;\">\n",
              "      <th></th>\n",
              "      <th>mes</th>\n",
              "      <th>dia_mes</th>\n",
              "      <th>semana</th>\n",
              "      <th>department</th>\n",
              "      <th>dia_semana</th>\n",
              "      <th>team</th>\n",
              "      <th>targeted_productivity</th>\n",
              "      <th>smv</th>\n",
              "      <th>wip</th>\n",
              "      <th>over_time</th>\n",
              "      <th>incentive</th>\n",
              "      <th>idle_time</th>\n",
              "      <th>idle_men</th>\n",
              "      <th>no_of_style_change</th>\n",
              "      <th>no_of_workers</th>\n",
              "      <th>actual_productivity</th>\n",
              "    </tr>\n",
              "  </thead>\n",
              "  <tbody>\n",
              "    <tr>\n",
              "      <th>1</th>\n",
              "      <td>1</td>\n",
              "      <td>1</td>\n",
              "      <td>Quarter1</td>\n",
              "      <td>finishing</td>\n",
              "      <td>Thursday</td>\n",
              "      <td>1</td>\n",
              "      <td>0.75</td>\n",
              "      <td>3.94</td>\n",
              "      <td>NaN</td>\n",
              "      <td>960</td>\n",
              "      <td>0</td>\n",
              "      <td>0.0</td>\n",
              "      <td>0</td>\n",
              "      <td>0</td>\n",
              "      <td>8.0</td>\n",
              "      <td>0.886500</td>\n",
              "    </tr>\n",
              "    <tr>\n",
              "      <th>6</th>\n",
              "      <td>1</td>\n",
              "      <td>1</td>\n",
              "      <td>Quarter1</td>\n",
              "      <td>finishing</td>\n",
              "      <td>Thursday</td>\n",
              "      <td>2</td>\n",
              "      <td>0.75</td>\n",
              "      <td>3.94</td>\n",
              "      <td>NaN</td>\n",
              "      <td>960</td>\n",
              "      <td>0</td>\n",
              "      <td>0.0</td>\n",
              "      <td>0</td>\n",
              "      <td>0</td>\n",
              "      <td>8.0</td>\n",
              "      <td>0.755167</td>\n",
              "    </tr>\n",
              "    <tr>\n",
              "      <th>13</th>\n",
              "      <td>1</td>\n",
              "      <td>1</td>\n",
              "      <td>Quarter1</td>\n",
              "      <td>finishing</td>\n",
              "      <td>Thursday</td>\n",
              "      <td>10</td>\n",
              "      <td>0.65</td>\n",
              "      <td>3.94</td>\n",
              "      <td>NaN</td>\n",
              "      <td>960</td>\n",
              "      <td>0</td>\n",
              "      <td>0.0</td>\n",
              "      <td>0</td>\n",
              "      <td>0</td>\n",
              "      <td>8.0</td>\n",
              "      <td>0.705917</td>\n",
              "    </tr>\n",
              "    <tr>\n",
              "      <th>14</th>\n",
              "      <td>1</td>\n",
              "      <td>1</td>\n",
              "      <td>Quarter1</td>\n",
              "      <td>finishing</td>\n",
              "      <td>Thursday</td>\n",
              "      <td>8</td>\n",
              "      <td>0.75</td>\n",
              "      <td>2.90</td>\n",
              "      <td>NaN</td>\n",
              "      <td>960</td>\n",
              "      <td>0</td>\n",
              "      <td>0.0</td>\n",
              "      <td>0</td>\n",
              "      <td>0</td>\n",
              "      <td>8.0</td>\n",
              "      <td>0.676667</td>\n",
              "    </tr>\n",
              "    <tr>\n",
              "      <th>15</th>\n",
              "      <td>1</td>\n",
              "      <td>1</td>\n",
              "      <td>Quarter1</td>\n",
              "      <td>finishing</td>\n",
              "      <td>Thursday</td>\n",
              "      <td>4</td>\n",
              "      <td>0.75</td>\n",
              "      <td>3.94</td>\n",
              "      <td>NaN</td>\n",
              "      <td>2160</td>\n",
              "      <td>0</td>\n",
              "      <td>0.0</td>\n",
              "      <td>0</td>\n",
              "      <td>0</td>\n",
              "      <td>18.0</td>\n",
              "      <td>0.593056</td>\n",
              "    </tr>\n",
              "    <tr>\n",
              "      <th>...</th>\n",
              "      <td>...</td>\n",
              "      <td>...</td>\n",
              "      <td>...</td>\n",
              "      <td>...</td>\n",
              "      <td>...</td>\n",
              "      <td>...</td>\n",
              "      <td>...</td>\n",
              "      <td>...</td>\n",
              "      <td>...</td>\n",
              "      <td>...</td>\n",
              "      <td>...</td>\n",
              "      <td>...</td>\n",
              "      <td>...</td>\n",
              "      <td>...</td>\n",
              "      <td>...</td>\n",
              "      <td>...</td>\n",
              "    </tr>\n",
              "    <tr>\n",
              "      <th>1192</th>\n",
              "      <td>3</td>\n",
              "      <td>11</td>\n",
              "      <td>Quarter2</td>\n",
              "      <td>finishing</td>\n",
              "      <td>Wednesday</td>\n",
              "      <td>10</td>\n",
              "      <td>0.75</td>\n",
              "      <td>2.90</td>\n",
              "      <td>NaN</td>\n",
              "      <td>960</td>\n",
              "      <td>0</td>\n",
              "      <td>0.0</td>\n",
              "      <td>0</td>\n",
              "      <td>0</td>\n",
              "      <td>8.0</td>\n",
              "      <td>0.628333</td>\n",
              "    </tr>\n",
              "    <tr>\n",
              "      <th>1193</th>\n",
              "      <td>3</td>\n",
              "      <td>11</td>\n",
              "      <td>Quarter2</td>\n",
              "      <td>finishing</td>\n",
              "      <td>Wednesday</td>\n",
              "      <td>8</td>\n",
              "      <td>0.70</td>\n",
              "      <td>3.90</td>\n",
              "      <td>NaN</td>\n",
              "      <td>960</td>\n",
              "      <td>0</td>\n",
              "      <td>0.0</td>\n",
              "      <td>0</td>\n",
              "      <td>0</td>\n",
              "      <td>8.0</td>\n",
              "      <td>0.625625</td>\n",
              "    </tr>\n",
              "    <tr>\n",
              "      <th>1194</th>\n",
              "      <td>3</td>\n",
              "      <td>11</td>\n",
              "      <td>Quarter2</td>\n",
              "      <td>finishing</td>\n",
              "      <td>Wednesday</td>\n",
              "      <td>7</td>\n",
              "      <td>0.65</td>\n",
              "      <td>3.90</td>\n",
              "      <td>NaN</td>\n",
              "      <td>960</td>\n",
              "      <td>0</td>\n",
              "      <td>0.0</td>\n",
              "      <td>0</td>\n",
              "      <td>0</td>\n",
              "      <td>8.0</td>\n",
              "      <td>0.625625</td>\n",
              "    </tr>\n",
              "    <tr>\n",
              "      <th>1195</th>\n",
              "      <td>3</td>\n",
              "      <td>11</td>\n",
              "      <td>Quarter2</td>\n",
              "      <td>finishing</td>\n",
              "      <td>Wednesday</td>\n",
              "      <td>9</td>\n",
              "      <td>0.75</td>\n",
              "      <td>2.90</td>\n",
              "      <td>NaN</td>\n",
              "      <td>1800</td>\n",
              "      <td>0</td>\n",
              "      <td>0.0</td>\n",
              "      <td>0</td>\n",
              "      <td>0</td>\n",
              "      <td>15.0</td>\n",
              "      <td>0.505889</td>\n",
              "    </tr>\n",
              "    <tr>\n",
              "      <th>1196</th>\n",
              "      <td>3</td>\n",
              "      <td>11</td>\n",
              "      <td>Quarter2</td>\n",
              "      <td>finishing</td>\n",
              "      <td>Wednesday</td>\n",
              "      <td>6</td>\n",
              "      <td>0.70</td>\n",
              "      <td>2.90</td>\n",
              "      <td>NaN</td>\n",
              "      <td>720</td>\n",
              "      <td>0</td>\n",
              "      <td>0.0</td>\n",
              "      <td>0</td>\n",
              "      <td>0</td>\n",
              "      <td>6.0</td>\n",
              "      <td>0.394722</td>\n",
              "    </tr>\n",
              "  </tbody>\n",
              "</table>\n",
              "<p>506 rows × 16 columns</p>\n",
              "</div>"
            ],
            "text/plain": [
              "      mes  dia_mes  ... no_of_workers actual_productivity\n",
              "1       1        1  ...           8.0            0.886500\n",
              "6       1        1  ...           8.0            0.755167\n",
              "13      1        1  ...           8.0            0.705917\n",
              "14      1        1  ...           8.0            0.676667\n",
              "15      1        1  ...          18.0            0.593056\n",
              "...   ...      ...  ...           ...                 ...\n",
              "1192    3       11  ...           8.0            0.628333\n",
              "1193    3       11  ...           8.0            0.625625\n",
              "1194    3       11  ...           8.0            0.625625\n",
              "1195    3       11  ...          15.0            0.505889\n",
              "1196    3       11  ...           6.0            0.394722\n",
              "\n",
              "[506 rows x 16 columns]"
            ]
          },
          "metadata": {
            "tags": []
          },
          "execution_count": 71
        }
      ]
    },
    {
      "cell_type": "code",
      "metadata": {
        "id": "ndhbOZrvvvww",
        "colab": {
          "base_uri": "https://localhost:8080/"
        },
        "outputId": "aa061d63-2800-4cbd-c8f9-66ebd97c0e08"
      },
      "source": [
        "# DP GIT. 1.5 Tratamiento de nulos y duplicados\n",
        "#Revisamos cuantas filas (registros) y columnas (variables) tiene el dataset antes  de eliminar los duplicados\n",
        "dataset.shape"
      ],
      "execution_count": 72,
      "outputs": [
        {
          "output_type": "execute_result",
          "data": {
            "text/plain": [
              "(1197, 16)"
            ]
          },
          "metadata": {
            "tags": []
          },
          "execution_count": 72
        }
      ]
    },
    {
      "cell_type": "code",
      "metadata": {
        "id": "Kn5wbGZtv907"
      },
      "source": [
        "# DP GIT. 1.5 Tratamiento de nulos y duplicados\n",
        "#Al aplicar \"drop_duplicates\" obtenemos un nuevo \"DataFrame\", pero con el parámetro inplace igual a \"True\" podemos realizar dicha operación de\n",
        "#eliminación y sobre-escribir el \"DataFrame\" del cual estamos eliminando con el nuevo \"DataFrame\" obtenido\n",
        "dataset.drop_duplicates(keep=\"first\", inplace=True)"
      ],
      "execution_count": 73,
      "outputs": []
    },
    {
      "cell_type": "code",
      "metadata": {
        "id": "PwdFnG6lwAu8",
        "colab": {
          "base_uri": "https://localhost:8080/"
        },
        "outputId": "645f66d3-9073-4f7b-fed1-bb4fafcb6d57"
      },
      "source": [
        "# DP GIT. 1.5 Tratamiento de nulos y duplicados\n",
        "#Revisamos cuantas filas (registros) y columnas (variables) tiene el dataset después de eliminar los duplicados\n",
        "dataset.shape"
      ],
      "execution_count": 74,
      "outputs": [
        {
          "output_type": "execute_result",
          "data": {
            "text/plain": [
              "(1197, 16)"
            ]
          },
          "metadata": {
            "tags": []
          },
          "execution_count": 74
        }
      ]
    },
    {
      "cell_type": "code",
      "metadata": {
        "id": "ExbL0ijbwDlt",
        "colab": {
          "base_uri": "https://localhost:8080/"
        },
        "outputId": "a0ce8192-4d34-46ec-d410-35b93f599613"
      },
      "source": [
        "# DP GIT. 1.5 Tratamiento de nulos y duplicados\n",
        "#Revisamos la cantidad de filas (registros) vacías por cada columna (variable) después de eliminar los duplicados para verificar que si se llegaron a eliminar nulos\n",
        "dataset.isna().sum()"
      ],
      "execution_count": 75,
      "outputs": [
        {
          "output_type": "execute_result",
          "data": {
            "text/plain": [
              "mes                        0\n",
              "dia_mes                    0\n",
              "semana                     0\n",
              "department                 0\n",
              "dia_semana                 0\n",
              "team                       0\n",
              "targeted_productivity      0\n",
              "smv                        0\n",
              "wip                      506\n",
              "over_time                  0\n",
              "incentive                  0\n",
              "idle_time                  0\n",
              "idle_men                   0\n",
              "no_of_style_change         0\n",
              "no_of_workers              0\n",
              "actual_productivity        0\n",
              "dtype: int64"
            ]
          },
          "metadata": {
            "tags": []
          },
          "execution_count": 75
        }
      ]
    },
    {
      "cell_type": "code",
      "metadata": {
        "id": "C9T1JYFlwHi0"
      },
      "source": [
        "# DP GIT. 1.6 Conversion de variables categóricas\n",
        "#Determinamos que columnas (variables) son del tipo númerico y cuales son categóricas para poder usar esta información más adelante:\n",
        "numeric_columns = list()\n",
        "categorical_columns = list()\n",
        "dictionary_of_columns_with_index_to_categorical = dict()\n",
        "dictionary_of_columns_with_categorical_to_index = dict()\n",
        "\n",
        "for column in dataset:\n",
        "  #Determinamos si la columna (variable) es numérica o no\n",
        "  if pd.api.types.is_numeric_dtype(dataset[column]):\n",
        "    numeric_columns.append(column)\n",
        "  else:\n",
        "    #Modificamos el tipo de dato de la columna (variable) mediante \"astype\"\n",
        "    dataset[column] = dataset[column].astype(\"category\")\n",
        "\n",
        "    #Verificamos si el tipo de dato de la columna (variable) fue transformado a categórico correctamente\n",
        "    if not pd.api.types.is_categorical_dtype(dataset[column]):\n",
        "      raise Exception(\"La columna {} no se transformó correctamente a categórica\".format(column))\n",
        "\n",
        "    dictionary_of_columns_with_index_to_categorical[column] = dict()\n",
        "    dictionary_of_columns_with_categorical_to_index[column] = dict()\n",
        "    \n",
        "    #Indexamos los valores (categorías), sin tomar en consideración los nulos, de la columna (variable) y guardamos esa información en los diccionarios\n",
        "    for index, category in enumerate(dataset[column].cat.categories):\n",
        "      dictionary_of_columns_with_index_to_categorical[column][index] = category\n",
        "      dictionary_of_columns_with_categorical_to_index[column][category] = index\n",
        "    \n",
        "    categorical_columns.append(column)"
      ],
      "execution_count": 76,
      "outputs": []
    },
    {
      "cell_type": "code",
      "metadata": {
        "id": "ONsu9ZXTxmEi",
        "colab": {
          "base_uri": "https://localhost:8080/"
        },
        "outputId": "173fbad7-34e0-4ec8-f321-2087bbdf03fd"
      },
      "source": [
        "# DP GIT. 1.6 Conversion de variables categóricas\n",
        "# impresion de variables almacenadas para el tratamiento\n",
        "print(numeric_columns)\n",
        "print(categorical_columns)\n",
        "print(dictionary_of_columns_with_index_to_categorical.keys())\n",
        "print(dictionary_of_columns_with_index_to_categorical)\n",
        "#Vemos los índices que tienen los valores (categorías) de la columna (variable) \"dia_semana\" para verificar que los nulos no están indexados\n",
        "dictionary_of_columns_with_index_to_categorical[\"dia_semana\"]"
      ],
      "execution_count": 77,
      "outputs": [
        {
          "output_type": "stream",
          "text": [
            "['mes', 'dia_mes', 'team', 'targeted_productivity', 'smv', 'wip', 'over_time', 'incentive', 'idle_time', 'idle_men', 'no_of_style_change', 'no_of_workers', 'actual_productivity']\n",
            "['semana', 'department', 'dia_semana']\n",
            "dict_keys(['semana', 'department', 'dia_semana'])\n",
            "{'semana': {0: 'Quarter1', 1: 'Quarter2', 2: 'Quarter3', 3: 'Quarter4', 4: 'Quarter5'}, 'department': {0: 'finishing', 1: 'sweing'}, 'dia_semana': {0: 'Monday', 1: 'Saturday', 2: 'Sunday', 3: 'Thursday', 4: 'Tuesday', 5: 'Wednesday'}}\n"
          ],
          "name": "stdout"
        },
        {
          "output_type": "execute_result",
          "data": {
            "text/plain": [
              "{0: 'Monday',\n",
              " 1: 'Saturday',\n",
              " 2: 'Sunday',\n",
              " 3: 'Thursday',\n",
              " 4: 'Tuesday',\n",
              " 5: 'Wednesday'}"
            ]
          },
          "metadata": {
            "tags": []
          },
          "execution_count": 77
        }
      ]
    },
    {
      "cell_type": "code",
      "metadata": {
        "id": "ixBHNPKz1WvE",
        "colab": {
          "base_uri": "https://localhost:8080/"
        },
        "outputId": "9b591850-62a8-4e73-a8b1-2d9a9d0e0d9c"
      },
      "source": [
        "# DP GIT. 1.6 Conversion de variables categóricas\n",
        "#Visualizamos el tipo de dato de las columnas (variables) para validar que las no numéricas se transformaron a categóricas\n",
        "dataset.dtypes"
      ],
      "execution_count": 78,
      "outputs": [
        {
          "output_type": "execute_result",
          "data": {
            "text/plain": [
              "mes                         int64\n",
              "dia_mes                     int64\n",
              "semana                   category\n",
              "department               category\n",
              "dia_semana               category\n",
              "team                        int64\n",
              "targeted_productivity     float64\n",
              "smv                       float64\n",
              "wip                       float64\n",
              "over_time                   int64\n",
              "incentive                   int64\n",
              "idle_time                 float64\n",
              "idle_men                    int64\n",
              "no_of_style_change          int64\n",
              "no_of_workers             float64\n",
              "actual_productivity       float64\n",
              "dtype: object"
            ]
          },
          "metadata": {
            "tags": []
          },
          "execution_count": 78
        }
      ]
    },
    {
      "cell_type": "code",
      "metadata": {
        "id": "hSG9Kpvb1dXF",
        "colab": {
          "base_uri": "https://localhost:8080/"
        },
        "outputId": "12fb7bb9-8aa6-48a9-eec3-8673b73ca884"
      },
      "source": [
        "# RD GIT. 1.7 tratamiento estadistico de datos incompletos\n",
        "#Porcentaje de filas (registros) vacías por cada columna (variable) numérica\n",
        "dataset[numeric_columns].isna().sum() / len(dataset)"
      ],
      "execution_count": 79,
      "outputs": [
        {
          "output_type": "execute_result",
          "data": {
            "text/plain": [
              "mes                      0.000000\n",
              "dia_mes                  0.000000\n",
              "team                     0.000000\n",
              "targeted_productivity    0.000000\n",
              "smv                      0.000000\n",
              "wip                      0.422723\n",
              "over_time                0.000000\n",
              "incentive                0.000000\n",
              "idle_time                0.000000\n",
              "idle_men                 0.000000\n",
              "no_of_style_change       0.000000\n",
              "no_of_workers            0.000000\n",
              "actual_productivity      0.000000\n",
              "dtype: float64"
            ]
          },
          "metadata": {
            "tags": []
          },
          "execution_count": 79
        }
      ]
    },
    {
      "cell_type": "code",
      "metadata": {
        "id": "x7JSuM9b1nVx"
      },
      "source": [
        "# RD GIT. 1.7 tratamiento estadistico de datos incompletos\n",
        "#Podemos reemplazar los nulos con la mediana en todo el dataset y sólo se reemplazarán las columnas (variables) numéricas. Sin embargo, por formalidad procederemos\n",
        "#a reemplazar los nulos con la mediana sólo de aquellas columnas (variables) numéricas\n",
        "median_of_numeric_columns = dataset[numeric_columns].median()\n",
        "\n",
        "dataset[numeric_columns] = dataset[numeric_columns].fillna(median_of_numeric_columns)"
      ],
      "execution_count": 80,
      "outputs": []
    },
    {
      "cell_type": "code",
      "metadata": {
        "id": "ozH2cMe128w0",
        "colab": {
          "base_uri": "https://localhost:8080/"
        },
        "outputId": "a0eecd19-4b25-47ef-e729-fe22c603f391"
      },
      "source": [
        "# RD GIT. 1.7 tratamiento estadistico de datos incompletos\n",
        "# validacion de que ya no existen variables con datos nulos\n",
        "dataset[numeric_columns].isna().sum() / len(dataset)"
      ],
      "execution_count": 81,
      "outputs": [
        {
          "output_type": "execute_result",
          "data": {
            "text/plain": [
              "mes                      0.0\n",
              "dia_mes                  0.0\n",
              "team                     0.0\n",
              "targeted_productivity    0.0\n",
              "smv                      0.0\n",
              "wip                      0.0\n",
              "over_time                0.0\n",
              "incentive                0.0\n",
              "idle_time                0.0\n",
              "idle_men                 0.0\n",
              "no_of_style_change       0.0\n",
              "no_of_workers            0.0\n",
              "actual_productivity      0.0\n",
              "dtype: float64"
            ]
          },
          "metadata": {
            "tags": []
          },
          "execution_count": 81
        }
      ]
    },
    {
      "cell_type": "code",
      "metadata": {
        "id": "IhIoqnzf3Dxi",
        "colab": {
          "base_uri": "https://localhost:8080/",
          "height": 437
        },
        "outputId": "5d989ced-121c-42ad-d530-976bc72c7142"
      },
      "source": [
        "# RD GIT. 1.6 Conversion de variables categóricas (se completa esta parte luego de tratar los nulos)\n",
        "#Transformamos a números los valores (categorías) de las columnas (variables) categóricas sin considerar los nulos\n",
        "dataset.replace(dictionary_of_columns_with_categorical_to_index, inplace=True)\n",
        "\n",
        "dataset"
      ],
      "execution_count": 82,
      "outputs": [
        {
          "output_type": "execute_result",
          "data": {
            "text/html": [
              "<div>\n",
              "<style scoped>\n",
              "    .dataframe tbody tr th:only-of-type {\n",
              "        vertical-align: middle;\n",
              "    }\n",
              "\n",
              "    .dataframe tbody tr th {\n",
              "        vertical-align: top;\n",
              "    }\n",
              "\n",
              "    .dataframe thead th {\n",
              "        text-align: right;\n",
              "    }\n",
              "</style>\n",
              "<table border=\"1\" class=\"dataframe\">\n",
              "  <thead>\n",
              "    <tr style=\"text-align: right;\">\n",
              "      <th></th>\n",
              "      <th>mes</th>\n",
              "      <th>dia_mes</th>\n",
              "      <th>semana</th>\n",
              "      <th>department</th>\n",
              "      <th>dia_semana</th>\n",
              "      <th>team</th>\n",
              "      <th>targeted_productivity</th>\n",
              "      <th>smv</th>\n",
              "      <th>wip</th>\n",
              "      <th>over_time</th>\n",
              "      <th>incentive</th>\n",
              "      <th>idle_time</th>\n",
              "      <th>idle_men</th>\n",
              "      <th>no_of_style_change</th>\n",
              "      <th>no_of_workers</th>\n",
              "      <th>actual_productivity</th>\n",
              "    </tr>\n",
              "  </thead>\n",
              "  <tbody>\n",
              "    <tr>\n",
              "      <th>0</th>\n",
              "      <td>1</td>\n",
              "      <td>1</td>\n",
              "      <td>0</td>\n",
              "      <td>1</td>\n",
              "      <td>3</td>\n",
              "      <td>8</td>\n",
              "      <td>0.80</td>\n",
              "      <td>26.16</td>\n",
              "      <td>1108.0</td>\n",
              "      <td>7080</td>\n",
              "      <td>98</td>\n",
              "      <td>0.0</td>\n",
              "      <td>0</td>\n",
              "      <td>0</td>\n",
              "      <td>59.0</td>\n",
              "      <td>0.940725</td>\n",
              "    </tr>\n",
              "    <tr>\n",
              "      <th>1</th>\n",
              "      <td>1</td>\n",
              "      <td>1</td>\n",
              "      <td>0</td>\n",
              "      <td>0</td>\n",
              "      <td>3</td>\n",
              "      <td>1</td>\n",
              "      <td>0.75</td>\n",
              "      <td>3.94</td>\n",
              "      <td>1039.0</td>\n",
              "      <td>960</td>\n",
              "      <td>0</td>\n",
              "      <td>0.0</td>\n",
              "      <td>0</td>\n",
              "      <td>0</td>\n",
              "      <td>8.0</td>\n",
              "      <td>0.886500</td>\n",
              "    </tr>\n",
              "    <tr>\n",
              "      <th>2</th>\n",
              "      <td>1</td>\n",
              "      <td>1</td>\n",
              "      <td>0</td>\n",
              "      <td>1</td>\n",
              "      <td>3</td>\n",
              "      <td>11</td>\n",
              "      <td>0.80</td>\n",
              "      <td>11.41</td>\n",
              "      <td>968.0</td>\n",
              "      <td>3660</td>\n",
              "      <td>50</td>\n",
              "      <td>0.0</td>\n",
              "      <td>0</td>\n",
              "      <td>0</td>\n",
              "      <td>30.5</td>\n",
              "      <td>0.800570</td>\n",
              "    </tr>\n",
              "    <tr>\n",
              "      <th>3</th>\n",
              "      <td>1</td>\n",
              "      <td>1</td>\n",
              "      <td>0</td>\n",
              "      <td>1</td>\n",
              "      <td>3</td>\n",
              "      <td>12</td>\n",
              "      <td>0.80</td>\n",
              "      <td>11.41</td>\n",
              "      <td>968.0</td>\n",
              "      <td>3660</td>\n",
              "      <td>50</td>\n",
              "      <td>0.0</td>\n",
              "      <td>0</td>\n",
              "      <td>0</td>\n",
              "      <td>30.5</td>\n",
              "      <td>0.800570</td>\n",
              "    </tr>\n",
              "    <tr>\n",
              "      <th>4</th>\n",
              "      <td>1</td>\n",
              "      <td>1</td>\n",
              "      <td>0</td>\n",
              "      <td>1</td>\n",
              "      <td>3</td>\n",
              "      <td>6</td>\n",
              "      <td>0.80</td>\n",
              "      <td>25.90</td>\n",
              "      <td>1170.0</td>\n",
              "      <td>1920</td>\n",
              "      <td>50</td>\n",
              "      <td>0.0</td>\n",
              "      <td>0</td>\n",
              "      <td>0</td>\n",
              "      <td>56.0</td>\n",
              "      <td>0.800382</td>\n",
              "    </tr>\n",
              "    <tr>\n",
              "      <th>...</th>\n",
              "      <td>...</td>\n",
              "      <td>...</td>\n",
              "      <td>...</td>\n",
              "      <td>...</td>\n",
              "      <td>...</td>\n",
              "      <td>...</td>\n",
              "      <td>...</td>\n",
              "      <td>...</td>\n",
              "      <td>...</td>\n",
              "      <td>...</td>\n",
              "      <td>...</td>\n",
              "      <td>...</td>\n",
              "      <td>...</td>\n",
              "      <td>...</td>\n",
              "      <td>...</td>\n",
              "      <td>...</td>\n",
              "    </tr>\n",
              "    <tr>\n",
              "      <th>1192</th>\n",
              "      <td>3</td>\n",
              "      <td>11</td>\n",
              "      <td>1</td>\n",
              "      <td>0</td>\n",
              "      <td>5</td>\n",
              "      <td>10</td>\n",
              "      <td>0.75</td>\n",
              "      <td>2.90</td>\n",
              "      <td>1039.0</td>\n",
              "      <td>960</td>\n",
              "      <td>0</td>\n",
              "      <td>0.0</td>\n",
              "      <td>0</td>\n",
              "      <td>0</td>\n",
              "      <td>8.0</td>\n",
              "      <td>0.628333</td>\n",
              "    </tr>\n",
              "    <tr>\n",
              "      <th>1193</th>\n",
              "      <td>3</td>\n",
              "      <td>11</td>\n",
              "      <td>1</td>\n",
              "      <td>0</td>\n",
              "      <td>5</td>\n",
              "      <td>8</td>\n",
              "      <td>0.70</td>\n",
              "      <td>3.90</td>\n",
              "      <td>1039.0</td>\n",
              "      <td>960</td>\n",
              "      <td>0</td>\n",
              "      <td>0.0</td>\n",
              "      <td>0</td>\n",
              "      <td>0</td>\n",
              "      <td>8.0</td>\n",
              "      <td>0.625625</td>\n",
              "    </tr>\n",
              "    <tr>\n",
              "      <th>1194</th>\n",
              "      <td>3</td>\n",
              "      <td>11</td>\n",
              "      <td>1</td>\n",
              "      <td>0</td>\n",
              "      <td>5</td>\n",
              "      <td>7</td>\n",
              "      <td>0.65</td>\n",
              "      <td>3.90</td>\n",
              "      <td>1039.0</td>\n",
              "      <td>960</td>\n",
              "      <td>0</td>\n",
              "      <td>0.0</td>\n",
              "      <td>0</td>\n",
              "      <td>0</td>\n",
              "      <td>8.0</td>\n",
              "      <td>0.625625</td>\n",
              "    </tr>\n",
              "    <tr>\n",
              "      <th>1195</th>\n",
              "      <td>3</td>\n",
              "      <td>11</td>\n",
              "      <td>1</td>\n",
              "      <td>0</td>\n",
              "      <td>5</td>\n",
              "      <td>9</td>\n",
              "      <td>0.75</td>\n",
              "      <td>2.90</td>\n",
              "      <td>1039.0</td>\n",
              "      <td>1800</td>\n",
              "      <td>0</td>\n",
              "      <td>0.0</td>\n",
              "      <td>0</td>\n",
              "      <td>0</td>\n",
              "      <td>15.0</td>\n",
              "      <td>0.505889</td>\n",
              "    </tr>\n",
              "    <tr>\n",
              "      <th>1196</th>\n",
              "      <td>3</td>\n",
              "      <td>11</td>\n",
              "      <td>1</td>\n",
              "      <td>0</td>\n",
              "      <td>5</td>\n",
              "      <td>6</td>\n",
              "      <td>0.70</td>\n",
              "      <td>2.90</td>\n",
              "      <td>1039.0</td>\n",
              "      <td>720</td>\n",
              "      <td>0</td>\n",
              "      <td>0.0</td>\n",
              "      <td>0</td>\n",
              "      <td>0</td>\n",
              "      <td>6.0</td>\n",
              "      <td>0.394722</td>\n",
              "    </tr>\n",
              "  </tbody>\n",
              "</table>\n",
              "<p>1197 rows × 16 columns</p>\n",
              "</div>"
            ],
            "text/plain": [
              "      mes  dia_mes  ...  no_of_workers  actual_productivity\n",
              "0       1        1  ...           59.0             0.940725\n",
              "1       1        1  ...            8.0             0.886500\n",
              "2       1        1  ...           30.5             0.800570\n",
              "3       1        1  ...           30.5             0.800570\n",
              "4       1        1  ...           56.0             0.800382\n",
              "...   ...      ...  ...            ...                  ...\n",
              "1192    3       11  ...            8.0             0.628333\n",
              "1193    3       11  ...            8.0             0.625625\n",
              "1194    3       11  ...            8.0             0.625625\n",
              "1195    3       11  ...           15.0             0.505889\n",
              "1196    3       11  ...            6.0             0.394722\n",
              "\n",
              "[1197 rows x 16 columns]"
            ]
          },
          "metadata": {
            "tags": []
          },
          "execution_count": 82
        }
      ]
    },
    {
      "cell_type": "code",
      "metadata": {
        "id": "kvA_a_dE3NSd",
        "colab": {
          "base_uri": "https://localhost:8080/",
          "height": 518
        },
        "outputId": "181d7305-d036-4716-ebc9-dc838e735354"
      },
      "source": [
        "# RD GIT. 1.8 Análisis estadistico PARTE 1\n",
        "# Se imprime una primera aproximación de la densidada de datos para el nro de trabajadores\n",
        "\n",
        "width = 10\n",
        "height = 5\n",
        "\n",
        "plt.style.use(\"default\")\n",
        "\n",
        "plt.figure(figsize=(width, height))\n",
        "\n",
        "sns.distplot(dataset['no_of_workers'], )\n",
        "\n",
        "plt.show()"
      ],
      "execution_count": 83,
      "outputs": [
        {
          "output_type": "stream",
          "text": [
            "/usr/local/lib/python3.7/dist-packages/seaborn/distributions.py:2557: FutureWarning: `distplot` is a deprecated function and will be removed in a future version. Please adapt your code to use either `displot` (a figure-level function with similar flexibility) or `histplot` (an axes-level function for histograms).\n",
            "  warnings.warn(msg, FutureWarning)\n"
          ],
          "name": "stderr"
        },
        {
          "output_type": "display_data",
          "data": {
            "image/png": "[encoded data removed]",
            "text/plain": [
              "<Figure size 1000x500 with 1 Axes>"
            ]
          },
          "metadata": {
            "tags": []
          }
        }
      ]
    },
    {
      "cell_type": "code",
      "metadata": {
        "id": "uRAcaGmU3qYG",
        "colab": {
          "base_uri": "https://localhost:8080/",
          "height": 1000
        },
        "outputId": "88f235e1-9bd3-40d4-b57d-dec377453857"
      },
      "source": [
        "# RD GIT. 1.8 Análisis estadistico PARTE 1\n",
        "# Se realiza un gráfico de densidad para todas las variables de forma individual\n",
        "\n",
        "width = 13\n",
        "height = 8\n",
        "\n",
        "plt.style.use(\"default\")\n",
        "\n",
        "figure, axes = plt.subplots(nrows=4, ncols=4, figsize=(width, height))\n",
        "\n",
        "for column, axe in zip(dataset, axes.flatten()):\n",
        "    sns.distplot(dataset[column], ax=axe)\n",
        "    \n",
        "plt.tight_layout()"
      ],
      "execution_count": 84,
      "outputs": [
        {
          "output_type": "stream",
          "text": [
            "/usr/local/lib/python3.7/dist-packages/seaborn/distributions.py:2557: FutureWarning: `distplot` is a deprecated function and will be removed in a future version. Please adapt your code to use either `displot` (a figure-level function with similar flexibility) or `histplot` (an axes-level function for histograms).\n",
            "  warnings.warn(msg, FutureWarning)\n",
            "/usr/local/lib/python3.7/dist-packages/seaborn/distributions.py:2557: FutureWarning: `distplot` is a deprecated function and will be removed in a future version. Please adapt your code to use either `displot` (a figure-level function with similar flexibility) or `histplot` (an axes-level function for histograms).\n",
            "  warnings.warn(msg, FutureWarning)\n",
            "/usr/local/lib/python3.7/dist-packages/seaborn/distributions.py:2557: FutureWarning: `distplot` is a deprecated function and will be removed in a future version. Please adapt your code to use either `displot` (a figure-level function with similar flexibility) or `histplot` (an axes-level function for histograms).\n",
            "  warnings.warn(msg, FutureWarning)\n",
            "/usr/local/lib/python3.7/dist-packages/seaborn/distributions.py:2557: FutureWarning: `distplot` is a deprecated function and will be removed in a future version. Please adapt your code to use either `displot` (a figure-level function with similar flexibility) or `histplot` (an axes-level function for histograms).\n",
            "  warnings.warn(msg, FutureWarning)\n",
            "/usr/local/lib/python3.7/dist-packages/seaborn/distributions.py:2557: FutureWarning: `distplot` is a deprecated function and will be removed in a future version. Please adapt your code to use either `displot` (a figure-level function with similar flexibility) or `histplot` (an axes-level function for histograms).\n",
            "  warnings.warn(msg, FutureWarning)\n",
            "/usr/local/lib/python3.7/dist-packages/seaborn/distributions.py:2557: FutureWarning: `distplot` is a deprecated function and will be removed in a future version. Please adapt your code to use either `displot` (a figure-level function with similar flexibility) or `histplot` (an axes-level function for histograms).\n",
            "  warnings.warn(msg, FutureWarning)\n",
            "/usr/local/lib/python3.7/dist-packages/seaborn/distributions.py:2557: FutureWarning: `distplot` is a deprecated function and will be removed in a future version. Please adapt your code to use either `displot` (a figure-level function with similar flexibility) or `histplot` (an axes-level function for histograms).\n",
            "  warnings.warn(msg, FutureWarning)\n",
            "/usr/local/lib/python3.7/dist-packages/seaborn/distributions.py:2557: FutureWarning: `distplot` is a deprecated function and will be removed in a future version. Please adapt your code to use either `displot` (a figure-level function with similar flexibility) or `histplot` (an axes-level function for histograms).\n",
            "  warnings.warn(msg, FutureWarning)\n",
            "/usr/local/lib/python3.7/dist-packages/seaborn/distributions.py:2557: FutureWarning: `distplot` is a deprecated function and will be removed in a future version. Please adapt your code to use either `displot` (a figure-level function with similar flexibility) or `histplot` (an axes-level function for histograms).\n",
            "  warnings.warn(msg, FutureWarning)\n",
            "/usr/local/lib/python3.7/dist-packages/seaborn/distributions.py:2557: FutureWarning: `distplot` is a deprecated function and will be removed in a future version. Please adapt your code to use either `displot` (a figure-level function with similar flexibility) or `histplot` (an axes-level function for histograms).\n",
            "  warnings.warn(msg, FutureWarning)\n",
            "/usr/local/lib/python3.7/dist-packages/seaborn/distributions.py:2557: FutureWarning: `distplot` is a deprecated function and will be removed in a future version. Please adapt your code to use either `displot` (a figure-level function with similar flexibility) or `histplot` (an axes-level function for histograms).\n",
            "  warnings.warn(msg, FutureWarning)\n",
            "/usr/local/lib/python3.7/dist-packages/seaborn/distributions.py:2557: FutureWarning: `distplot` is a deprecated function and will be removed in a future version. Please adapt your code to use either `displot` (a figure-level function with similar flexibility) or `histplot` (an axes-level function for histograms).\n",
            "  warnings.warn(msg, FutureWarning)\n",
            "/usr/local/lib/python3.7/dist-packages/seaborn/distributions.py:2557: FutureWarning: `distplot` is a deprecated function and will be removed in a future version. Please adapt your code to use either `displot` (a figure-level function with similar flexibility) or `histplot` (an axes-level function for histograms).\n",
            "  warnings.warn(msg, FutureWarning)\n",
            "/usr/local/lib/python3.7/dist-packages/seaborn/distributions.py:2557: FutureWarning: `distplot` is a deprecated function and will be removed in a future version. Please adapt your code to use either `displot` (a figure-level function with similar flexibility) or `histplot` (an axes-level function for histograms).\n",
            "  warnings.warn(msg, FutureWarning)\n",
            "/usr/local/lib/python3.7/dist-packages/seaborn/distributions.py:2557: FutureWarning: `distplot` is a deprecated function and will be removed in a future version. Please adapt your code to use either `displot` (a figure-level function with similar flexibility) or `histplot` (an axes-level function for histograms).\n",
            "  warnings.warn(msg, FutureWarning)\n",
            "/usr/local/lib/python3.7/dist-packages/seaborn/distributions.py:2557: FutureWarning: `distplot` is a deprecated function and will be removed in a future version. Please adapt your code to use either `displot` (a figure-level function with similar flexibility) or `histplot` (an axes-level function for histograms).\n",
            "  warnings.warn(msg, FutureWarning)\n"
          ],
          "name": "stderr"
        },
        {
          "output_type": "display_data",
          "data": {
            "image/png": "[encoded data removed]",
            "text/plain": [
              "<Figure size 1300x800 with 16 Axes>"
            ]
          },
          "metadata": {
            "tags": []
          }
        }
      ]
    },
    {
      "cell_type": "markdown",
      "metadata": {
        "id": "GM7YsrgqPeH8"
      },
      "source": [
        "# ANALISIS DE LA DISPERSION DE LOS DATOS Y RELACIÓN DE VARIABLES"
      ]
    },
    {
      "cell_type": "code",
      "metadata": {
        "colab": {
          "base_uri": "https://localhost:8080/",
          "height": 466
        },
        "id": "TjEQRfYP7zJh",
        "outputId": "4bfca1c6-7944-4ffb-ffe0-4f5f911f044e"
      },
      "source": [
        "# DP GIT. 1.9 Análisis estadistico PARTE 2\n",
        "# DP Explicación: Se aprecian los outlayers en el proceso WIP en el día 02 de febrero.\n",
        "#DP. Ver la forma de dispersión de los datos de wip vs fechas y ver los datos extraños\n",
        "datos = pd.read_csv(\"garments_worker_productivity.csv\")\n",
        "dfwip = datos[[\"date\",\"wip\"]]\n",
        "dfwip.plot.scatter(x=\"date\", y=\"wip\", alpha=1)"
      ],
      "execution_count": 85,
      "outputs": [
        {
          "output_type": "execute_result",
          "data": {
            "text/plain": [
              "<matplotlib.axes._subplots.AxesSubplot at 0x7f68604fc8d0>"
            ]
          },
          "metadata": {
            "tags": []
          },
          "execution_count": 85
        },
        {
          "output_type": "display_data",
          "data": {
            "image/png": "[encoded data removed]",
            "text/plain": [
              "<Figure size 640x480 with 1 Axes>"
            ]
          },
          "metadata": {
            "tags": []
          }
        }
      ]
    },
    {
      "cell_type": "code",
      "metadata": {
        "colab": {
          "base_uri": "https://localhost:8080/",
          "height": 467
        },
        "id": "7XlHcPegMVAf",
        "outputId": "70d03228-14f7-475f-c851-a735fc142ace"
      },
      "source": [
        "# DP GIT. 1.9 Análisis estadistico PARTE 2\n",
        "# DP Analizamos la relación entre \"número de trabajadores\" vs \"smv\" \n",
        "# EXPLICACIÓN: Se nota un gran agrupamiento de datos para SMV menor a 10 y para numero de trabajadores menores a 20; \n",
        "# luego en numero cercano a 60 se tienen tiempos oscilantes, debido a los cuellos de botella del área de costura\n",
        "datos = dataset\n",
        "dfR1 = datos[[\"no_of_workers\",\"smv\"]]\n",
        "dfR1.plot.scatter(x=\"no_of_workers\", y=\"smv\", alpha=1)"
      ],
      "execution_count": 86,
      "outputs": [
        {
          "output_type": "execute_result",
          "data": {
            "text/plain": [
              "<matplotlib.axes._subplots.AxesSubplot at 0x7f6860299450>"
            ]
          },
          "metadata": {
            "tags": []
          },
          "execution_count": 86
        },
        {
          "output_type": "display_data",
          "data": {
            "image/png": "[encoded data removed]",
            "text/plain": [
              "<Figure size 640x480 with 1 Axes>"
            ]
          },
          "metadata": {
            "tags": []
          }
        }
      ]
    },
    {
      "cell_type": "code",
      "metadata": {
        "id": "rPsDf7naNHLa",
        "colab": {
          "base_uri": "https://localhost:8080/",
          "height": 466
        },
        "outputId": "de962cbb-8735-44fb-d3c2-196db341f12f"
      },
      "source": [
        "# DP GIT. 1.9 Análisis estadistico PARTE 2\n",
        "# DP Analizamos la relación entre \"incentivos\" vs \"semanas\"  \n",
        "# EXPLICACIÓN: Se nota la existencia de incentivos en la primera semana del mes a diferencia del resto, \n",
        "# indica que se tiene re procesos de la semana anterior que se deben corregir\n",
        "\n",
        "datos = dataset\n",
        "dfR4 = datos[[\"semana\",\"incentive\"]]\n",
        "dfR4.plot.scatter(x=\"semana\", y=\"incentive\", alpha=1)"
      ],
      "execution_count": 87,
      "outputs": [
        {
          "output_type": "execute_result",
          "data": {
            "text/plain": [
              "<matplotlib.axes._subplots.AxesSubplot at 0x7f686017ad90>"
            ]
          },
          "metadata": {
            "tags": []
          },
          "execution_count": 87
        },
        {
          "output_type": "display_data",
          "data": {
            "image/png": "[encoded data removed]",
            "text/plain": [
              "<Figure size 640x480 with 1 Axes>"
            ]
          },
          "metadata": {
            "tags": []
          }
        }
      ]
    },
    {
      "cell_type": "code",
      "metadata": {
        "id": "JJDstynMOont",
        "colab": {
          "base_uri": "https://localhost:8080/",
          "height": 467
        },
        "outputId": "fc55378e-f388-4187-9b95-e50d11f68df1"
      },
      "source": [
        "# DP GIT. 1.9 Análisis estadistico PARTE 2\n",
        "# DP Analizamos la relación entre \"no_of_workers\" vs \"over_time\" EXPLICACIÓN: Se nota unas tendencias lineas en al menos dos grandes sectores\n",
        "datos = dataset\n",
        "dfR9 = datos[[\"no_of_workers\",\"over_time\"]]\n",
        "dfR9.plot.scatter(x=\"no_of_workers\", y=\"over_time\", alpha=1)"
      ],
      "execution_count": 88,
      "outputs": [
        {
          "output_type": "execute_result",
          "data": {
            "text/plain": [
              "<matplotlib.axes._subplots.AxesSubplot at 0x7f6860672650>"
            ]
          },
          "metadata": {
            "tags": []
          },
          "execution_count": 88
        },
        {
          "output_type": "display_data",
          "data": {
            "image/png": "[encoded data removed]",
            "text/plain": [
              "<Figure size 640x480 with 1 Axes>"
            ]
          },
          "metadata": {
            "tags": []
          }
        }
      ]
    },
    {
      "cell_type": "code",
      "metadata": {
        "id": "-e7IUgUHPIe8",
        "colab": {
          "base_uri": "https://localhost:8080/",
          "height": 466
        },
        "outputId": "d421736a-0d91-4fa1-f9bb-eaa117225df9"
      },
      "source": [
        "# DP GIT. 1.9 Análisis estadistico PARTE 2\n",
        "# DP Analizamos la relación entre \"department\" vs \"smv\" \n",
        "# EXPLICACIÓN: Se nota un que el área de costura tienen tiempos grandes y pequeños de demoras, \n",
        "# lo cual muestra la presencia de cuellos de botella en el proceso que se pretende mejorar con metología LEAN\n",
        "\n",
        "datos = dataset\n",
        "dfR10 = datos[[\"department\",\"smv\"]]\n",
        "dfR10.plot.scatter(x=\"department\", y=\"smv\", alpha=1)"
      ],
      "execution_count": 89,
      "outputs": [
        {
          "output_type": "execute_result",
          "data": {
            "text/plain": [
              "<matplotlib.axes._subplots.AxesSubplot at 0x7f68607a6910>"
            ]
          },
          "metadata": {
            "tags": []
          },
          "execution_count": 89
        },
        {
          "output_type": "display_data",
          "data": {
            "image/png": "[encoded data removed]",
            "text/plain": [
              "<Figure size 640x480 with 1 Axes>"
            ]
          },
          "metadata": {
            "tags": []
          }
        }
      ]
    },
    {
      "cell_type": "code",
      "metadata": {
        "colab": {
          "base_uri": "https://localhost:8080/",
          "height": 467
        },
        "id": "5jIBFBUCc8FC",
        "outputId": "446f9b0e-a546-4675-fc3a-72f5162518c8"
      },
      "source": [
        "# DP GIT. 1.9 Análisis estadistico PARTE 2\n",
        "# DP comparar los idle time e idle men \n",
        "# EXPLICACIÓN: Se nota una tendencia lineal entre ellos, lo cual es coherente bajo un modelo que busca aplicar metodo LEAN en la producción\n",
        "\n",
        "datos = dataset\n",
        "dfR13 = datos[[\"idle_time\",\"idle_men\"]]\n",
        "dfR13.plot.scatter(x=\"idle_time\", y=\"idle_men\", alpha=1)"
      ],
      "execution_count": 90,
      "outputs": [
        {
          "output_type": "execute_result",
          "data": {
            "text/plain": [
              "<matplotlib.axes._subplots.AxesSubplot at 0x7f68606671d0>"
            ]
          },
          "metadata": {
            "tags": []
          },
          "execution_count": 90
        },
        {
          "output_type": "display_data",
          "data": {
            "image/png": "[encoded data removed]",
            "text/plain": [
              "<Figure size 640x480 with 1 Axes>"
            ]
          },
          "metadata": {
            "tags": []
          }
        }
      ]
    },
    {
      "cell_type": "code",
      "metadata": {
        "colab": {
          "base_uri": "https://localhost:8080/",
          "height": 467
        },
        "id": "u2821BwBdQSB",
        "outputId": "04763da4-581f-4e1f-cc3c-05e5d95df28f"
      },
      "source": [
        "# DP GIT. 1.9 Análisis estadistico PARTE 2\n",
        "# DP comparar overtime con incentivo \n",
        "# EXPLICACIÓN: Se nota un gran agrupamiento de datos por incentivos menores a 500 para el mayor número de datos\n",
        "\n",
        "datos = dataset\n",
        "dfR14 = datos[[\"over_time\",\"incentive\"]]\n",
        "dfR14.plot.scatter(x=\"over_time\", y=\"incentive\", alpha=1)"
      ],
      "execution_count": 91,
      "outputs": [
        {
          "output_type": "execute_result",
          "data": {
            "text/plain": [
              "<matplotlib.axes._subplots.AxesSubplot at 0x7f686b1e90d0>"
            ]
          },
          "metadata": {
            "tags": []
          },
          "execution_count": 91
        },
        {
          "output_type": "display_data",
          "data": {
            "image/png": "[encoded data removed]",
            "text/plain": [
              "<Figure size 640x480 with 1 Axes>"
            ]
          },
          "metadata": {
            "tags": []
          }
        }
      ]
    },
    {
      "cell_type": "code",
      "metadata": {
        "colab": {
          "base_uri": "https://localhost:8080/",
          "height": 467
        },
        "id": "LzW45zzddt9j",
        "outputId": "d4bb1439-43b2-4b14-866e-91ac864e1d66"
      },
      "source": [
        "# DP GIT. 1.9 Análisis estadistico PARTE 2\n",
        "# DP comparar idle_time con wip \n",
        "# EXPLICACIÓN: Se nota un gran agrupamiento de datos cerca del 0,0 lo cual daría una correlación fuerte\n",
        "datos = dataset\n",
        "dfR14 = datos[[\"idle_time\",\"wip\"]]\n",
        "dfR14.plot.scatter(x=\"idle_time\", y=\"wip\", alpha=1)"
      ],
      "execution_count": 92,
      "outputs": [
        {
          "output_type": "execute_result",
          "data": {
            "text/plain": [
              "<matplotlib.axes._subplots.AxesSubplot at 0x7f686ae19a50>"
            ]
          },
          "metadata": {
            "tags": []
          },
          "execution_count": 92
        },
        {
          "output_type": "display_data",
          "data": {
            "image/png": "[encoded data removed]",
            "text/plain": [
              "<Figure size 640x480 with 1 Axes>"
            ]
          },
          "metadata": {
            "tags": []
          }
        }
      ]
    },
    {
      "cell_type": "code",
      "metadata": {
        "colab": {
          "base_uri": "https://localhost:8080/",
          "height": 467
        },
        "id": "1La9I7NUd6AP",
        "outputId": "89e7cb3e-d0f8-4246-da59-315eab0804ec"
      },
      "source": [
        "# DP GIT. 1.9 Análisis estadistico PARTE 2\n",
        "# DP comparar idle_men con wip \n",
        "# EXPLICACIÓN: Se nota un gran agrupamiento de datos cerca del 0,0 lo cual daría una correlación fuerte\n",
        "datos = dataset\n",
        "dfR14 = datos[[\"idle_men\",\"wip\"]]\n",
        "dfR14.plot.scatter(x=\"idle_men\", y=\"wip\", alpha=1)"
      ],
      "execution_count": 93,
      "outputs": [
        {
          "output_type": "execute_result",
          "data": {
            "text/plain": [
              "<matplotlib.axes._subplots.AxesSubplot at 0x7f686af64410>"
            ]
          },
          "metadata": {
            "tags": []
          },
          "execution_count": 93
        },
        {
          "output_type": "display_data",
          "data": {
            "image/png": "[encoded data removed]",
            "text/plain": [
              "<Figure size 640x480 with 1 Axes>"
            ]
          },
          "metadata": {
            "tags": []
          }
        }
      ]
    },
    {
      "cell_type": "code",
      "metadata": {
        "colab": {
          "base_uri": "https://localhost:8080/"
        },
        "id": "loG739JHMnQw",
        "outputId": "cffda089-6817-4b0d-f310-65760c561a7c"
      },
      "source": [
        "# RD GIT. 1.10 Depuracion del ruido\n",
        "# EXPLICACIÓN: Se Se analiza las variables que presentan un alto porcetanje de ceros y se verifica que presentan ruido a la predicción del Target\n",
        "\n",
        "ruido_1 = dataset['idle_time'].value_counts(normalize=True) * 100\n",
        "ruido_2 = dataset['idle_men'].value_counts(normalize=True) * 100\n",
        "ruido_3 = dataset['no_of_style_change'].value_counts(normalize=True) * 100\n",
        "print(\"---------------------------------------------------------------------\");\n",
        "print(\" % de tiempo en que se interrumpió la producción debido a varias razones\");\n",
        "print(\"---------------------------------------------------------------------\");\n",
        "print(ruido_1);\n",
        "print(\"---------------------------------------------------------------------\");\n",
        "print(\" % trabajadores que estuvieron inactivos debido a la interrupción de la producción \");\n",
        "print(\"---------------------------------------------------------------------\");\n",
        "print(ruido_2);\n",
        "print(\"---------------------------------------------------------------------\");\n",
        "print(\" % cambios en el estilo de un producto en particular            \");\n",
        "print(\"---------------------------------------------------------------------\");\n",
        "print(ruido_3);\n"
      ],
      "execution_count": 94,
      "outputs": [
        {
          "output_type": "stream",
          "text": [
            "---------------------------------------------------------------------\n",
            " % de tiempo en que se interrumpió la producción debido a varias razones\n",
            "---------------------------------------------------------------------\n",
            "0.0      98.496241\n",
            "3.5       0.250627\n",
            "4.0       0.167084\n",
            "4.5       0.167084\n",
            "8.0       0.167084\n",
            "5.0       0.167084\n",
            "2.0       0.167084\n",
            "270.0     0.083542\n",
            "150.0     0.083542\n",
            "6.5       0.083542\n",
            "300.0     0.083542\n",
            "90.0      0.083542\n",
            "Name: idle_time, dtype: float64\n",
            "---------------------------------------------------------------------\n",
            " % trabajadores que estuvieron inactivos debido a la interrupción de la producción \n",
            "---------------------------------------------------------------------\n",
            "0     98.496241\n",
            "30     0.250627\n",
            "20     0.250627\n",
            "15     0.250627\n",
            "10     0.250627\n",
            "35     0.167084\n",
            "45     0.083542\n",
            "40     0.083542\n",
            "37     0.083542\n",
            "25     0.083542\n",
            "Name: idle_men, dtype: float64\n",
            "---------------------------------------------------------------------\n",
            " % cambios en el estilo de un producto en particular            \n",
            "---------------------------------------------------------------------\n",
            "0    87.719298\n",
            "1     9.523810\n",
            "2     2.756892\n",
            "Name: no_of_style_change, dtype: float64\n"
          ],
          "name": "stdout"
        }
      ]
    },
    {
      "cell_type": "code",
      "metadata": {
        "colab": {
          "base_uri": "https://localhost:8080/",
          "height": 472
        },
        "id": "r0iuKipUNfjd",
        "outputId": "9d47dbfd-0991-4076-dfde-85c07e04245c"
      },
      "source": [
        "# RD GIT. 1.10 Depuracion del ruido\n",
        "# Representación gráfica del ruido 1 - % de tiempo en que se interrumpió la producción debido a varias razones\n",
        "\n",
        "ruido_1.plot(kind='bar',   fontsize=10)"
      ],
      "execution_count": 95,
      "outputs": [
        {
          "output_type": "execute_result",
          "data": {
            "text/plain": [
              "<matplotlib.axes._subplots.AxesSubplot at 0x7f68603c5810>"
            ]
          },
          "metadata": {
            "tags": []
          },
          "execution_count": 95
        },
        {
          "output_type": "display_data",
          "data": {
            "image/png": "[encoded data removed]",
            "text/plain": [
              "<Figure size 640x480 with 1 Axes>"
            ]
          },
          "metadata": {
            "tags": []
          }
        }
      ]
    },
    {
      "cell_type": "code",
      "metadata": {
        "colab": {
          "base_uri": "https://localhost:8080/",
          "height": 450
        },
        "id": "vrLW6TwyNfVm",
        "outputId": "44261315-d63a-43b2-d5fb-14829df1db73"
      },
      "source": [
        "# RD GIT. 1.10 Depuracion del ruido -  % trabajadores que estuvieron inactivos debido a la interrupción de la producción \n",
        "# Representación gráfica del ruido 2\n",
        "\n",
        "ruido_2.plot(kind='bar',   fontsize=10)"
      ],
      "execution_count": 96,
      "outputs": [
        {
          "output_type": "execute_result",
          "data": {
            "text/plain": [
              "<matplotlib.axes._subplots.AxesSubplot at 0x7f686acd1ad0>"
            ]
          },
          "metadata": {
            "tags": []
          },
          "execution_count": 96
        },
        {
          "output_type": "display_data",
          "data": {
            "image/png": "[encoded data removed]",
            "text/plain": [
              "<Figure size 640x480 with 1 Axes>"
            ]
          },
          "metadata": {
            "tags": []
          }
        }
      ]
    },
    {
      "cell_type": "code",
      "metadata": {
        "colab": {
          "base_uri": "https://localhost:8080/",
          "height": 442
        },
        "id": "UzYQrh98NfJq",
        "outputId": "d6c82d4b-24ed-4745-c0e1-beeeb02b1c91"
      },
      "source": [
        "# RD GIT. 1.10 Depuracion del ruido\n",
        "# Representación gráfica del ruido 3 - % cambios en el estilo de un producto en particular\n",
        "\n",
        "ruido_3.plot(kind='bar',   fontsize=10)"
      ],
      "execution_count": 97,
      "outputs": [
        {
          "output_type": "execute_result",
          "data": {
            "text/plain": [
              "<matplotlib.axes._subplots.AxesSubplot at 0x7f686b92ed10>"
            ]
          },
          "metadata": {
            "tags": []
          },
          "execution_count": 97
        },
        {
          "output_type": "display_data",
          "data": {
            "image/png": "[encoded data removed]",
            "text/plain": [
              "<Figure size 640x480 with 1 Axes>"
            ]
          },
          "metadata": {
            "tags": []
          }
        }
      ]
    },
    {
      "cell_type": "code",
      "metadata": {
        "id": "eqnJNSI-N_vD",
        "colab": {
          "base_uri": "https://localhost:8080/",
          "height": 437
        },
        "outputId": "11a73cf7-d913-4340-9038-77857eff6404"
      },
      "source": [
        "# RD GIT. 1.10 Depuracion del ruido\n",
        "# Luego de hacer el análisis del ruido se procede con la eliminación de las columnas\n",
        "dataset.drop([\"idle_time\",\"idle_men\",\"no_of_style_change\"], axis=1, inplace = True)\n",
        "dataset"
      ],
      "execution_count": 98,
      "outputs": [
        {
          "output_type": "execute_result",
          "data": {
            "text/html": [
              "<div>\n",
              "<style scoped>\n",
              "    .dataframe tbody tr th:only-of-type {\n",
              "        vertical-align: middle;\n",
              "    }\n",
              "\n",
              "    .dataframe tbody tr th {\n",
              "        vertical-align: top;\n",
              "    }\n",
              "\n",
              "    .dataframe thead th {\n",
              "        text-align: right;\n",
              "    }\n",
              "</style>\n",
              "<table border=\"1\" class=\"dataframe\">\n",
              "  <thead>\n",
              "    <tr style=\"text-align: right;\">\n",
              "      <th></th>\n",
              "      <th>mes</th>\n",
              "      <th>dia_mes</th>\n",
              "      <th>semana</th>\n",
              "      <th>department</th>\n",
              "      <th>dia_semana</th>\n",
              "      <th>team</th>\n",
              "      <th>targeted_productivity</th>\n",
              "      <th>smv</th>\n",
              "      <th>wip</th>\n",
              "      <th>over_time</th>\n",
              "      <th>incentive</th>\n",
              "      <th>no_of_workers</th>\n",
              "      <th>actual_productivity</th>\n",
              "    </tr>\n",
              "  </thead>\n",
              "  <tbody>\n",
              "    <tr>\n",
              "      <th>0</th>\n",
              "      <td>1</td>\n",
              "      <td>1</td>\n",
              "      <td>0</td>\n",
              "      <td>1</td>\n",
              "      <td>3</td>\n",
              "      <td>8</td>\n",
              "      <td>0.80</td>\n",
              "      <td>26.16</td>\n",
              "      <td>1108.0</td>\n",
              "      <td>7080</td>\n",
              "      <td>98</td>\n",
              "      <td>59.0</td>\n",
              "      <td>0.940725</td>\n",
              "    </tr>\n",
              "    <tr>\n",
              "      <th>1</th>\n",
              "      <td>1</td>\n",
              "      <td>1</td>\n",
              "      <td>0</td>\n",
              "      <td>0</td>\n",
              "      <td>3</td>\n",
              "      <td>1</td>\n",
              "      <td>0.75</td>\n",
              "      <td>3.94</td>\n",
              "      <td>1039.0</td>\n",
              "      <td>960</td>\n",
              "      <td>0</td>\n",
              "      <td>8.0</td>\n",
              "      <td>0.886500</td>\n",
              "    </tr>\n",
              "    <tr>\n",
              "      <th>2</th>\n",
              "      <td>1</td>\n",
              "      <td>1</td>\n",
              "      <td>0</td>\n",
              "      <td>1</td>\n",
              "      <td>3</td>\n",
              "      <td>11</td>\n",
              "      <td>0.80</td>\n",
              "      <td>11.41</td>\n",
              "      <td>968.0</td>\n",
              "      <td>3660</td>\n",
              "      <td>50</td>\n",
              "      <td>30.5</td>\n",
              "      <td>0.800570</td>\n",
              "    </tr>\n",
              "    <tr>\n",
              "      <th>3</th>\n",
              "      <td>1</td>\n",
              "      <td>1</td>\n",
              "      <td>0</td>\n",
              "      <td>1</td>\n",
              "      <td>3</td>\n",
              "      <td>12</td>\n",
              "      <td>0.80</td>\n",
              "      <td>11.41</td>\n",
              "      <td>968.0</td>\n",
              "      <td>3660</td>\n",
              "      <td>50</td>\n",
              "      <td>30.5</td>\n",
              "      <td>0.800570</td>\n",
              "    </tr>\n",
              "    <tr>\n",
              "      <th>4</th>\n",
              "      <td>1</td>\n",
              "      <td>1</td>\n",
              "      <td>0</td>\n",
              "      <td>1</td>\n",
              "      <td>3</td>\n",
              "      <td>6</td>\n",
              "      <td>0.80</td>\n",
              "      <td>25.90</td>\n",
              "      <td>1170.0</td>\n",
              "      <td>1920</td>\n",
              "      <td>50</td>\n",
              "      <td>56.0</td>\n",
              "      <td>0.800382</td>\n",
              "    </tr>\n",
              "    <tr>\n",
              "      <th>...</th>\n",
              "      <td>...</td>\n",
              "      <td>...</td>\n",
              "      <td>...</td>\n",
              "      <td>...</td>\n",
              "      <td>...</td>\n",
              "      <td>...</td>\n",
              "      <td>...</td>\n",
              "      <td>...</td>\n",
              "      <td>...</td>\n",
              "      <td>...</td>\n",
              "      <td>...</td>\n",
              "      <td>...</td>\n",
              "      <td>...</td>\n",
              "    </tr>\n",
              "    <tr>\n",
              "      <th>1192</th>\n",
              "      <td>3</td>\n",
              "      <td>11</td>\n",
              "      <td>1</td>\n",
              "      <td>0</td>\n",
              "      <td>5</td>\n",
              "      <td>10</td>\n",
              "      <td>0.75</td>\n",
              "      <td>2.90</td>\n",
              "      <td>1039.0</td>\n",
              "      <td>960</td>\n",
              "      <td>0</td>\n",
              "      <td>8.0</td>\n",
              "      <td>0.628333</td>\n",
              "    </tr>\n",
              "    <tr>\n",
              "      <th>1193</th>\n",
              "      <td>3</td>\n",
              "      <td>11</td>\n",
              "      <td>1</td>\n",
              "      <td>0</td>\n",
              "      <td>5</td>\n",
              "      <td>8</td>\n",
              "      <td>0.70</td>\n",
              "      <td>3.90</td>\n",
              "      <td>1039.0</td>\n",
              "      <td>960</td>\n",
              "      <td>0</td>\n",
              "      <td>8.0</td>\n",
              "      <td>0.625625</td>\n",
              "    </tr>\n",
              "    <tr>\n",
              "      <th>1194</th>\n",
              "      <td>3</td>\n",
              "      <td>11</td>\n",
              "      <td>1</td>\n",
              "      <td>0</td>\n",
              "      <td>5</td>\n",
              "      <td>7</td>\n",
              "      <td>0.65</td>\n",
              "      <td>3.90</td>\n",
              "      <td>1039.0</td>\n",
              "      <td>960</td>\n",
              "      <td>0</td>\n",
              "      <td>8.0</td>\n",
              "      <td>0.625625</td>\n",
              "    </tr>\n",
              "    <tr>\n",
              "      <th>1195</th>\n",
              "      <td>3</td>\n",
              "      <td>11</td>\n",
              "      <td>1</td>\n",
              "      <td>0</td>\n",
              "      <td>5</td>\n",
              "      <td>9</td>\n",
              "      <td>0.75</td>\n",
              "      <td>2.90</td>\n",
              "      <td>1039.0</td>\n",
              "      <td>1800</td>\n",
              "      <td>0</td>\n",
              "      <td>15.0</td>\n",
              "      <td>0.505889</td>\n",
              "    </tr>\n",
              "    <tr>\n",
              "      <th>1196</th>\n",
              "      <td>3</td>\n",
              "      <td>11</td>\n",
              "      <td>1</td>\n",
              "      <td>0</td>\n",
              "      <td>5</td>\n",
              "      <td>6</td>\n",
              "      <td>0.70</td>\n",
              "      <td>2.90</td>\n",
              "      <td>1039.0</td>\n",
              "      <td>720</td>\n",
              "      <td>0</td>\n",
              "      <td>6.0</td>\n",
              "      <td>0.394722</td>\n",
              "    </tr>\n",
              "  </tbody>\n",
              "</table>\n",
              "<p>1197 rows × 13 columns</p>\n",
              "</div>"
            ],
            "text/plain": [
              "      mes  dia_mes  semana  ...  incentive  no_of_workers  actual_productivity\n",
              "0       1        1       0  ...         98           59.0             0.940725\n",
              "1       1        1       0  ...          0            8.0             0.886500\n",
              "2       1        1       0  ...         50           30.5             0.800570\n",
              "3       1        1       0  ...         50           30.5             0.800570\n",
              "4       1        1       0  ...         50           56.0             0.800382\n",
              "...   ...      ...     ...  ...        ...            ...                  ...\n",
              "1192    3       11       1  ...          0            8.0             0.628333\n",
              "1193    3       11       1  ...          0            8.0             0.625625\n",
              "1194    3       11       1  ...          0            8.0             0.625625\n",
              "1195    3       11       1  ...          0           15.0             0.505889\n",
              "1196    3       11       1  ...          0            6.0             0.394722\n",
              "\n",
              "[1197 rows x 13 columns]"
            ]
          },
          "metadata": {
            "tags": []
          },
          "execution_count": 98
        }
      ]
    }
  ]
}